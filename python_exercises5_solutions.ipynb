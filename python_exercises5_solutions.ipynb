{
  "nbformat": 4,
  "nbformat_minor": 0,
  "metadata": {
    "colab": {
      "name": "python-exercises5-solutions.ipynb",
      "provenance": [],
      "collapsed_sections": []
    },
    "kernelspec": {
      "name": "python3",
      "display_name": "Python 3"
    }
  },
  "cells": [
    {
      "cell_type": "markdown",
      "metadata": {
        "id": "hbw0zQPQ-rSB",
        "colab_type": "text"
      },
      "source": [
        "Let's go ahead and mount the google drive to get easy-access to the course data:"
      ]
    },
    {
      "cell_type": "code",
      "metadata": {
        "id": "Ar-OTdo2-s89",
        "colab_type": "code",
        "colab": {}
      },
      "source": [
        "# mount google drive\n",
        "from google.colab import drive\n",
        "drive.mount('/content/gdrive')"
      ],
      "execution_count": 0,
      "outputs": []
    },
    {
      "cell_type": "markdown",
      "metadata": {
        "id": "1Yz0xzdTqG9N",
        "colab_type": "text"
      },
      "source": [
        "Import the `pandas` library; for convenience, call it `pd`."
      ]
    },
    {
      "cell_type": "code",
      "metadata": {
        "id": "9-DvEwvXqMeV",
        "colab_type": "code",
        "colab": {}
      },
      "source": [
        "import pandas as pd"
      ],
      "execution_count": 0,
      "outputs": []
    },
    {
      "cell_type": "markdown",
      "metadata": {
        "id": "Xstda857njsy",
        "colab_type": "text"
      },
      "source": [
        "Using `pd.read_csv`, load both files (`PATIENTS.csv` and `DIAGNOSES_ICD.csv`) from the <a href=\"https://alpha.physionet.org/content/mimiciii-demo/1.4/\">MIMIC-III Clinical Database Demo</a> which licenses them under the <a href=\"https://opendatacommons.org/licenses/odbl/index.html\">ODC Open Database License (ODbl)</a>.\n",
        "\n",
        "**References:**\n",
        "\n",
        "Johnson, A., Pollard, T., Mark, R. (2019). MIMIC-III Clinical Database Demo. PhysioNet. doi:10.13026/C2HM2Q\n",
        "\n",
        "Johnson, A. E. W., Pollard, T. J., Shen, L., Lehman, L. H., Feng, M., Ghassemi, M., Moody, B., Szolovits, P., Celi, L. A., & Mark, R. G. (2016). MIMIC-III, a freely accessible critical care database. Scientific Data, 3, 160035.\n",
        "\n",
        "Goldberger AL, Amaral LAN, Glass L, Hausdorff JM, Ivanov PCh, Mark RG, Mietus JE, Moody GB, Peng C-K, Stanley HE. PhysioBank, PhysioToolkit, and PhysioNet: Components of a New Research Resource for Complex Physiologic Signals (2003). Circulation. 101(23):e215-e220."
      ]
    },
    {
      "cell_type": "code",
      "metadata": {
        "id": "U35KxKXJm1dd",
        "colab_type": "code",
        "colab": {}
      },
      "source": [
        "patients = pd.read_csv('/content/gdrive/My Drive/[YCMI_CBDS Summer Course] Data/PATIENTS.csv')\n",
        "diagnoses = pd.read_csv('/content/gdrive/My Drive/[YCMI_CBDS Summer Course] Data/DIAGNOSES_ICD.csv')"
      ],
      "execution_count": 0,
      "outputs": []
    },
    {
      "cell_type": "markdown",
      "metadata": {
        "id": "sLxBo0bRp9dl",
        "colab_type": "text"
      },
      "source": [
        "Use the `.head()` method to get a sense of what each of the two data frames looks like. You will likely want to do this anytime you start working with new data:"
      ]
    },
    {
      "cell_type": "code",
      "metadata": {
        "id": "iEMk_CW4sN2G",
        "colab_type": "code",
        "outputId": "e734053d-db3a-4599-c9a3-f99efca6394d",
        "colab": {
          "base_uri": "https://localhost:8080/",
          "height": 206
        }
      },
      "source": [
        "patients.head()"
      ],
      "execution_count": 0,
      "outputs": [
        {
          "output_type": "execute_result",
          "data": {
            "text/html": [
              "<div>\n",
              "<style scoped>\n",
              "    .dataframe tbody tr th:only-of-type {\n",
              "        vertical-align: middle;\n",
              "    }\n",
              "\n",
              "    .dataframe tbody tr th {\n",
              "        vertical-align: top;\n",
              "    }\n",
              "\n",
              "    .dataframe thead th {\n",
              "        text-align: right;\n",
              "    }\n",
              "</style>\n",
              "<table border=\"1\" class=\"dataframe\">\n",
              "  <thead>\n",
              "    <tr style=\"text-align: right;\">\n",
              "      <th></th>\n",
              "      <th>row_id</th>\n",
              "      <th>subject_id</th>\n",
              "      <th>gender</th>\n",
              "      <th>dob</th>\n",
              "      <th>dod</th>\n",
              "      <th>dod_hosp</th>\n",
              "      <th>dod_ssn</th>\n",
              "      <th>expire_flag</th>\n",
              "    </tr>\n",
              "  </thead>\n",
              "  <tbody>\n",
              "    <tr>\n",
              "      <th>0</th>\n",
              "      <td>9467</td>\n",
              "      <td>10006</td>\n",
              "      <td>F</td>\n",
              "      <td>2094-03-05 00:00:00</td>\n",
              "      <td>2165-08-12 00:00:00</td>\n",
              "      <td>2165-08-12 00:00:00</td>\n",
              "      <td>2165-08-12 00:00:00</td>\n",
              "      <td>1</td>\n",
              "    </tr>\n",
              "    <tr>\n",
              "      <th>1</th>\n",
              "      <td>9472</td>\n",
              "      <td>10011</td>\n",
              "      <td>F</td>\n",
              "      <td>2090-06-05 00:00:00</td>\n",
              "      <td>2126-08-28 00:00:00</td>\n",
              "      <td>2126-08-28 00:00:00</td>\n",
              "      <td>NaN</td>\n",
              "      <td>1</td>\n",
              "    </tr>\n",
              "    <tr>\n",
              "      <th>2</th>\n",
              "      <td>9474</td>\n",
              "      <td>10013</td>\n",
              "      <td>F</td>\n",
              "      <td>2038-09-03 00:00:00</td>\n",
              "      <td>2125-10-07 00:00:00</td>\n",
              "      <td>2125-10-07 00:00:00</td>\n",
              "      <td>2125-10-07 00:00:00</td>\n",
              "      <td>1</td>\n",
              "    </tr>\n",
              "    <tr>\n",
              "      <th>3</th>\n",
              "      <td>9478</td>\n",
              "      <td>10017</td>\n",
              "      <td>F</td>\n",
              "      <td>2075-09-21 00:00:00</td>\n",
              "      <td>2152-09-12 00:00:00</td>\n",
              "      <td>NaN</td>\n",
              "      <td>2152-09-12 00:00:00</td>\n",
              "      <td>1</td>\n",
              "    </tr>\n",
              "    <tr>\n",
              "      <th>4</th>\n",
              "      <td>9479</td>\n",
              "      <td>10019</td>\n",
              "      <td>M</td>\n",
              "      <td>2114-06-20 00:00:00</td>\n",
              "      <td>2163-05-15 00:00:00</td>\n",
              "      <td>2163-05-15 00:00:00</td>\n",
              "      <td>2163-05-15 00:00:00</td>\n",
              "      <td>1</td>\n",
              "    </tr>\n",
              "  </tbody>\n",
              "</table>\n",
              "</div>"
            ],
            "text/plain": [
              "   row_id  subject_id  ...              dod_ssn expire_flag\n",
              "0    9467       10006  ...  2165-08-12 00:00:00           1\n",
              "1    9472       10011  ...                  NaN           1\n",
              "2    9474       10013  ...  2125-10-07 00:00:00           1\n",
              "3    9478       10017  ...  2152-09-12 00:00:00           1\n",
              "4    9479       10019  ...  2163-05-15 00:00:00           1\n",
              "\n",
              "[5 rows x 8 columns]"
            ]
          },
          "metadata": {
            "tags": []
          },
          "execution_count": 5
        }
      ]
    },
    {
      "cell_type": "code",
      "metadata": {
        "id": "URo9JJR-sN4j",
        "colab_type": "code",
        "outputId": "636c7914-3bac-46c1-d516-a8f44873843b",
        "colab": {
          "base_uri": "https://localhost:8080/",
          "height": 206
        }
      },
      "source": [
        "diagnoses.head()"
      ],
      "execution_count": 0,
      "outputs": [
        {
          "output_type": "execute_result",
          "data": {
            "text/html": [
              "<div>\n",
              "<style scoped>\n",
              "    .dataframe tbody tr th:only-of-type {\n",
              "        vertical-align: middle;\n",
              "    }\n",
              "\n",
              "    .dataframe tbody tr th {\n",
              "        vertical-align: top;\n",
              "    }\n",
              "\n",
              "    .dataframe thead th {\n",
              "        text-align: right;\n",
              "    }\n",
              "</style>\n",
              "<table border=\"1\" class=\"dataframe\">\n",
              "  <thead>\n",
              "    <tr style=\"text-align: right;\">\n",
              "      <th></th>\n",
              "      <th>row_id</th>\n",
              "      <th>subject_id</th>\n",
              "      <th>hadm_id</th>\n",
              "      <th>seq_num</th>\n",
              "      <th>icd9_code</th>\n",
              "    </tr>\n",
              "  </thead>\n",
              "  <tbody>\n",
              "    <tr>\n",
              "      <th>0</th>\n",
              "      <td>112344</td>\n",
              "      <td>10006</td>\n",
              "      <td>142345</td>\n",
              "      <td>1</td>\n",
              "      <td>99591</td>\n",
              "    </tr>\n",
              "    <tr>\n",
              "      <th>1</th>\n",
              "      <td>112345</td>\n",
              "      <td>10006</td>\n",
              "      <td>142345</td>\n",
              "      <td>2</td>\n",
              "      <td>99662</td>\n",
              "    </tr>\n",
              "    <tr>\n",
              "      <th>2</th>\n",
              "      <td>112346</td>\n",
              "      <td>10006</td>\n",
              "      <td>142345</td>\n",
              "      <td>3</td>\n",
              "      <td>5672</td>\n",
              "    </tr>\n",
              "    <tr>\n",
              "      <th>3</th>\n",
              "      <td>112347</td>\n",
              "      <td>10006</td>\n",
              "      <td>142345</td>\n",
              "      <td>4</td>\n",
              "      <td>40391</td>\n",
              "    </tr>\n",
              "    <tr>\n",
              "      <th>4</th>\n",
              "      <td>112348</td>\n",
              "      <td>10006</td>\n",
              "      <td>142345</td>\n",
              "      <td>5</td>\n",
              "      <td>42731</td>\n",
              "    </tr>\n",
              "  </tbody>\n",
              "</table>\n",
              "</div>"
            ],
            "text/plain": [
              "   row_id  subject_id  hadm_id  seq_num icd9_code\n",
              "0  112344       10006   142345        1     99591\n",
              "1  112345       10006   142345        2     99662\n",
              "2  112346       10006   142345        3      5672\n",
              "3  112347       10006   142345        4     40391\n",
              "4  112348       10006   142345        5     42731"
            ]
          },
          "metadata": {
            "tags": []
          },
          "execution_count": 6
        }
      ]
    },
    {
      "cell_type": "markdown",
      "metadata": {
        "id": "WGIgbGN6sOiI",
        "colab_type": "text"
      },
      "source": [
        "You may have noticed that the patients data frame has a column `gender`. Run the `value_counts` method on the patients `gender` column to see how many males and females are in the data set."
      ]
    },
    {
      "cell_type": "code",
      "metadata": {
        "id": "IfaitE5BnFJ5",
        "colab_type": "code",
        "outputId": "5e2a3cd0-5fe6-4a1a-e58a-ebdebaab8fca",
        "colab": {
          "base_uri": "https://localhost:8080/",
          "height": 69
        }
      },
      "source": [
        "patients['gender'].value_counts()"
      ],
      "execution_count": 0,
      "outputs": [
        {
          "output_type": "execute_result",
          "data": {
            "text/plain": [
              "F    55\n",
              "M    45\n",
              "Name: gender, dtype: int64"
            ]
          },
          "metadata": {
            "tags": []
          },
          "execution_count": 7
        }
      ]
    },
    {
      "cell_type": "markdown",
      "metadata": {
        "id": "zPkZcw5ruF_d",
        "colab_type": "text"
      },
      "source": [
        "You may have also noticed that there are several timestamp columns, including `dob` (date of birth) and `dod` (date of death). By default, the computer is treating them as text. Replace the contents of these columns with the values converted into timestamps using `pd.to_datetime`."
      ]
    },
    {
      "cell_type": "code",
      "metadata": {
        "id": "A65mAiQ6nZQ3",
        "colab_type": "code",
        "colab": {}
      },
      "source": [
        "patients['dob'] = pd.to_datetime(patients['dob'])\n",
        "patients['dod'] = pd.to_datetime(patients['dod'])"
      ],
      "execution_count": 0,
      "outputs": []
    },
    {
      "cell_type": "markdown",
      "metadata": {
        "id": "AbtYyBGZktwP",
        "colab_type": "text"
      },
      "source": [
        "What's the earliest any of the patients were born? Use `min`."
      ]
    },
    {
      "cell_type": "code",
      "metadata": {
        "id": "PrBYSWcHkv3g",
        "colab_type": "code",
        "outputId": "7cb1b114-3359-4486-afe4-4d6498da1a97",
        "colab": {
          "base_uri": "https://localhost:8080/",
          "height": 34
        }
      },
      "source": [
        "min(patients['dob'])"
      ],
      "execution_count": 0,
      "outputs": [
        {
          "output_type": "execute_result",
          "data": {
            "text/plain": [
              "Timestamp('1844-07-18 00:00:00')"
            ]
          },
          "metadata": {
            "tags": []
          },
          "execution_count": 9
        }
      ]
    },
    {
      "cell_type": "markdown",
      "metadata": {
        "id": "gke0movplSx-",
        "colab_type": "text"
      },
      "source": [
        "Which patient was born first?"
      ]
    },
    {
      "cell_type": "code",
      "metadata": {
        "id": "PYJxJXoalT4F",
        "colab_type": "code",
        "outputId": "3f89e2c2-ee45-4d4b-da6d-68b5855b7ef1",
        "colab": {
          "base_uri": "https://localhost:8080/",
          "height": 81
        }
      },
      "source": [
        "patients[patients['dob'] == min(patients['dob'])]"
      ],
      "execution_count": 0,
      "outputs": [
        {
          "output_type": "execute_result",
          "data": {
            "text/html": [
              "<div>\n",
              "<style scoped>\n",
              "    .dataframe tbody tr th:only-of-type {\n",
              "        vertical-align: middle;\n",
              "    }\n",
              "\n",
              "    .dataframe tbody tr th {\n",
              "        vertical-align: top;\n",
              "    }\n",
              "\n",
              "    .dataframe thead th {\n",
              "        text-align: right;\n",
              "    }\n",
              "</style>\n",
              "<table border=\"1\" class=\"dataframe\">\n",
              "  <thead>\n",
              "    <tr style=\"text-align: right;\">\n",
              "      <th></th>\n",
              "      <th>row_id</th>\n",
              "      <th>subject_id</th>\n",
              "      <th>gender</th>\n",
              "      <th>dob</th>\n",
              "      <th>dod</th>\n",
              "      <th>dod_hosp</th>\n",
              "      <th>dod_ssn</th>\n",
              "      <th>expire_flag</th>\n",
              "    </tr>\n",
              "  </thead>\n",
              "  <tbody>\n",
              "    <tr>\n",
              "      <th>62</th>\n",
              "      <td>30962</td>\n",
              "      <td>40655</td>\n",
              "      <td>F</td>\n",
              "      <td>1844-07-18</td>\n",
              "      <td>2145-03-07</td>\n",
              "      <td>2145-03-07 00:00:00</td>\n",
              "      <td>NaN</td>\n",
              "      <td>1</td>\n",
              "    </tr>\n",
              "  </tbody>\n",
              "</table>\n",
              "</div>"
            ],
            "text/plain": [
              "    row_id  subject_id gender  ...             dod_hosp dod_ssn expire_flag\n",
              "62   30962       40655      F  ...  2145-03-07 00:00:00     NaN           1\n",
              "\n",
              "[1 rows x 8 columns]"
            ]
          },
          "metadata": {
            "tags": []
          },
          "execution_count": 10
        }
      ]
    },
    {
      "cell_type": "markdown",
      "metadata": {
        "id": "fBMeiAIx0UDV",
        "colab_type": "text"
      },
      "source": [
        "Find all the patients who were born before January 1, 2020."
      ]
    },
    {
      "cell_type": "code",
      "metadata": {
        "id": "hPPbVBdvth2B",
        "colab_type": "code",
        "outputId": "f4b40dde-fc57-4d7e-9f4c-1a67c25e07bd",
        "colab": {
          "base_uri": "https://localhost:8080/",
          "height": 332
        }
      },
      "source": [
        "patients[patients['dob'] < pd.to_datetime('January 1, 2020')]"
      ],
      "execution_count": 0,
      "outputs": [
        {
          "output_type": "execute_result",
          "data": {
            "text/html": [
              "<div>\n",
              "<style scoped>\n",
              "    .dataframe tbody tr th:only-of-type {\n",
              "        vertical-align: middle;\n",
              "    }\n",
              "\n",
              "    .dataframe tbody tr th {\n",
              "        vertical-align: top;\n",
              "    }\n",
              "\n",
              "    .dataframe thead th {\n",
              "        text-align: right;\n",
              "    }\n",
              "</style>\n",
              "<table border=\"1\" class=\"dataframe\">\n",
              "  <thead>\n",
              "    <tr style=\"text-align: right;\">\n",
              "      <th></th>\n",
              "      <th>row_id</th>\n",
              "      <th>subject_id</th>\n",
              "      <th>gender</th>\n",
              "      <th>dob</th>\n",
              "      <th>dod</th>\n",
              "      <th>dod_hosp</th>\n",
              "      <th>dod_ssn</th>\n",
              "      <th>expire_flag</th>\n",
              "    </tr>\n",
              "  </thead>\n",
              "  <tbody>\n",
              "    <tr>\n",
              "      <th>5</th>\n",
              "      <td>9486</td>\n",
              "      <td>10026</td>\n",
              "      <td>F</td>\n",
              "      <td>1895-05-17</td>\n",
              "      <td>2195-11-24</td>\n",
              "      <td>NaN</td>\n",
              "      <td>2195-11-24 00:00:00</td>\n",
              "      <td>1</td>\n",
              "    </tr>\n",
              "    <tr>\n",
              "      <th>11</th>\n",
              "      <td>9495</td>\n",
              "      <td>10036</td>\n",
              "      <td>F</td>\n",
              "      <td>1885-03-24</td>\n",
              "      <td>2185-03-26</td>\n",
              "      <td>2185-03-26 00:00:00</td>\n",
              "      <td>2185-03-26 00:00:00</td>\n",
              "      <td>1</td>\n",
              "    </tr>\n",
              "    <tr>\n",
              "      <th>33</th>\n",
              "      <td>9550</td>\n",
              "      <td>10094</td>\n",
              "      <td>M</td>\n",
              "      <td>1880-02-29</td>\n",
              "      <td>2180-03-20</td>\n",
              "      <td>2180-03-20 00:00:00</td>\n",
              "      <td>2180-03-20 00:00:00</td>\n",
              "      <td>1</td>\n",
              "    </tr>\n",
              "    <tr>\n",
              "      <th>62</th>\n",
              "      <td>30962</td>\n",
              "      <td>40655</td>\n",
              "      <td>F</td>\n",
              "      <td>1844-07-18</td>\n",
              "      <td>2145-03-07</td>\n",
              "      <td>2145-03-07 00:00:00</td>\n",
              "      <td>NaN</td>\n",
              "      <td>1</td>\n",
              "    </tr>\n",
              "    <tr>\n",
              "      <th>67</th>\n",
              "      <td>31314</td>\n",
              "      <td>41983</td>\n",
              "      <td>F</td>\n",
              "      <td>1851-09-12</td>\n",
              "      <td>2151-09-15</td>\n",
              "      <td>2151-09-15 00:00:00</td>\n",
              "      <td>NaN</td>\n",
              "      <td>1</td>\n",
              "    </tr>\n",
              "    <tr>\n",
              "      <th>73</th>\n",
              "      <td>31379</td>\n",
              "      <td>42231</td>\n",
              "      <td>F</td>\n",
              "      <td>2016-12-05</td>\n",
              "      <td>2105-05-18</td>\n",
              "      <td>2105-05-18 00:00:00</td>\n",
              "      <td>2103-05-18 00:00:00</td>\n",
              "      <td>1</td>\n",
              "    </tr>\n",
              "    <tr>\n",
              "      <th>83</th>\n",
              "      <td>31440</td>\n",
              "      <td>42458</td>\n",
              "      <td>M</td>\n",
              "      <td>1846-07-21</td>\n",
              "      <td>2147-09-08</td>\n",
              "      <td>2147-09-08 00:00:00</td>\n",
              "      <td>NaN</td>\n",
              "      <td>1</td>\n",
              "    </tr>\n",
              "    <tr>\n",
              "      <th>89</th>\n",
              "      <td>31778</td>\n",
              "      <td>43827</td>\n",
              "      <td>F</td>\n",
              "      <td>1876-07-14</td>\n",
              "      <td>2178-12-07</td>\n",
              "      <td>2178-12-07 00:00:00</td>\n",
              "      <td>2178-12-07 00:00:00</td>\n",
              "      <td>1</td>\n",
              "    </tr>\n",
              "    <tr>\n",
              "      <th>96</th>\n",
              "      <td>31853</td>\n",
              "      <td>44154</td>\n",
              "      <td>M</td>\n",
              "      <td>1878-05-14</td>\n",
              "      <td>2178-05-15</td>\n",
              "      <td>2178-05-15 00:00:00</td>\n",
              "      <td>2178-05-15 00:00:00</td>\n",
              "      <td>1</td>\n",
              "    </tr>\n",
              "  </tbody>\n",
              "</table>\n",
              "</div>"
            ],
            "text/plain": [
              "    row_id  subject_id  ...              dod_ssn expire_flag\n",
              "5     9486       10026  ...  2195-11-24 00:00:00           1\n",
              "11    9495       10036  ...  2185-03-26 00:00:00           1\n",
              "33    9550       10094  ...  2180-03-20 00:00:00           1\n",
              "62   30962       40655  ...                  NaN           1\n",
              "67   31314       41983  ...                  NaN           1\n",
              "73   31379       42231  ...  2103-05-18 00:00:00           1\n",
              "83   31440       42458  ...                  NaN           1\n",
              "89   31778       43827  ...  2178-12-07 00:00:00           1\n",
              "96   31853       44154  ...  2178-05-15 00:00:00           1\n",
              "\n",
              "[9 rows x 8 columns]"
            ]
          },
          "metadata": {
            "tags": []
          },
          "execution_count": 11
        }
      ]
    },
    {
      "cell_type": "markdown",
      "metadata": {
        "id": "jz74kKAC0bkH",
        "colab_type": "text"
      },
      "source": [
        "How many men were born before January 1, 2020? How many women? (Use `.value_counts()`)."
      ]
    },
    {
      "cell_type": "code",
      "metadata": {
        "id": "yq_vS6-C0xMB",
        "colab_type": "code",
        "outputId": "1277b7b8-eeba-4b37-91c7-b349985e26e7",
        "colab": {
          "base_uri": "https://localhost:8080/",
          "height": 69
        }
      },
      "source": [
        "patients[patients['dob'] < pd.to_datetime('January 1, 2020')]['gender'].value_counts()"
      ],
      "execution_count": 0,
      "outputs": [
        {
          "output_type": "execute_result",
          "data": {
            "text/plain": [
              "F    6\n",
              "M    3\n",
              "Name: gender, dtype: int64"
            ]
          },
          "metadata": {
            "tags": []
          },
          "execution_count": 12
        }
      ]
    },
    {
      "cell_type": "markdown",
      "metadata": {
        "id": "UpX9ruDInLX3",
        "colab_type": "text"
      },
      "source": [
        "Using the data from `DIAGNOSES_ICD.csv`, how many patients (`subject_id`) recieved an `icd9_code` diagnosis of `'5070'` (the string)? How is this different from the number of times that diagnosis code appears in the dataset?\n",
        "\n",
        "*Hint: you will want to use the set function to turn a pandas series into a set*"
      ]
    },
    {
      "cell_type": "code",
      "metadata": {
        "id": "MYsnV-vYz2Nq",
        "colab_type": "code",
        "outputId": "606f1e40-cd20-4a5d-823f-0280b67f7c05",
        "colab": {
          "base_uri": "https://localhost:8080/",
          "height": 34
        }
      },
      "source": [
        "len(set(diagnoses[diagnoses['icd9_code'] == '5070']['subject_id']))"
      ],
      "execution_count": 0,
      "outputs": [
        {
          "output_type": "execute_result",
          "data": {
            "text/plain": [
              "12"
            ]
          },
          "metadata": {
            "tags": []
          },
          "execution_count": 13
        }
      ]
    },
    {
      "cell_type": "markdown",
      "metadata": {
        "id": "VDULFg9woojK",
        "colab_type": "text"
      },
      "source": [
        "Replace the use of `M` and `F` for identifying gender with the terms `'male'` and `'female'` in the `gender` column of `patients`. Use the data frame's `head` method with the appropriate argument to show the first 10 rows to make sure you did it right."
      ]
    },
    {
      "cell_type": "code",
      "metadata": {
        "id": "oFsq6SAsovQf",
        "colab_type": "code",
        "outputId": "76cbaf52-0642-4db3-bec8-ab080338007b",
        "colab": {
          "base_uri": "https://localhost:8080/",
          "height": 363
        }
      },
      "source": [
        "patients = patients.replace({'gender': {'F': 'female', 'M': 'male'}})\n",
        "patients.head(10)"
      ],
      "execution_count": 0,
      "outputs": [
        {
          "output_type": "execute_result",
          "data": {
            "text/html": [
              "<div>\n",
              "<style scoped>\n",
              "    .dataframe tbody tr th:only-of-type {\n",
              "        vertical-align: middle;\n",
              "    }\n",
              "\n",
              "    .dataframe tbody tr th {\n",
              "        vertical-align: top;\n",
              "    }\n",
              "\n",
              "    .dataframe thead th {\n",
              "        text-align: right;\n",
              "    }\n",
              "</style>\n",
              "<table border=\"1\" class=\"dataframe\">\n",
              "  <thead>\n",
              "    <tr style=\"text-align: right;\">\n",
              "      <th></th>\n",
              "      <th>row_id</th>\n",
              "      <th>subject_id</th>\n",
              "      <th>gender</th>\n",
              "      <th>dob</th>\n",
              "      <th>dod</th>\n",
              "      <th>dod_hosp</th>\n",
              "      <th>dod_ssn</th>\n",
              "      <th>expire_flag</th>\n",
              "    </tr>\n",
              "  </thead>\n",
              "  <tbody>\n",
              "    <tr>\n",
              "      <th>0</th>\n",
              "      <td>9467</td>\n",
              "      <td>10006</td>\n",
              "      <td>female</td>\n",
              "      <td>2094-03-05</td>\n",
              "      <td>2165-08-12</td>\n",
              "      <td>2165-08-12 00:00:00</td>\n",
              "      <td>2165-08-12 00:00:00</td>\n",
              "      <td>1</td>\n",
              "    </tr>\n",
              "    <tr>\n",
              "      <th>1</th>\n",
              "      <td>9472</td>\n",
              "      <td>10011</td>\n",
              "      <td>female</td>\n",
              "      <td>2090-06-05</td>\n",
              "      <td>2126-08-28</td>\n",
              "      <td>2126-08-28 00:00:00</td>\n",
              "      <td>NaN</td>\n",
              "      <td>1</td>\n",
              "    </tr>\n",
              "    <tr>\n",
              "      <th>2</th>\n",
              "      <td>9474</td>\n",
              "      <td>10013</td>\n",
              "      <td>female</td>\n",
              "      <td>2038-09-03</td>\n",
              "      <td>2125-10-07</td>\n",
              "      <td>2125-10-07 00:00:00</td>\n",
              "      <td>2125-10-07 00:00:00</td>\n",
              "      <td>1</td>\n",
              "    </tr>\n",
              "    <tr>\n",
              "      <th>3</th>\n",
              "      <td>9478</td>\n",
              "      <td>10017</td>\n",
              "      <td>female</td>\n",
              "      <td>2075-09-21</td>\n",
              "      <td>2152-09-12</td>\n",
              "      <td>NaN</td>\n",
              "      <td>2152-09-12 00:00:00</td>\n",
              "      <td>1</td>\n",
              "    </tr>\n",
              "    <tr>\n",
              "      <th>4</th>\n",
              "      <td>9479</td>\n",
              "      <td>10019</td>\n",
              "      <td>male</td>\n",
              "      <td>2114-06-20</td>\n",
              "      <td>2163-05-15</td>\n",
              "      <td>2163-05-15 00:00:00</td>\n",
              "      <td>2163-05-15 00:00:00</td>\n",
              "      <td>1</td>\n",
              "    </tr>\n",
              "    <tr>\n",
              "      <th>5</th>\n",
              "      <td>9486</td>\n",
              "      <td>10026</td>\n",
              "      <td>female</td>\n",
              "      <td>1895-05-17</td>\n",
              "      <td>2195-11-24</td>\n",
              "      <td>NaN</td>\n",
              "      <td>2195-11-24 00:00:00</td>\n",
              "      <td>1</td>\n",
              "    </tr>\n",
              "    <tr>\n",
              "      <th>6</th>\n",
              "      <td>9487</td>\n",
              "      <td>10027</td>\n",
              "      <td>female</td>\n",
              "      <td>2108-01-15</td>\n",
              "      <td>2190-09-14</td>\n",
              "      <td>NaN</td>\n",
              "      <td>2190-09-14 00:00:00</td>\n",
              "      <td>1</td>\n",
              "    </tr>\n",
              "    <tr>\n",
              "      <th>7</th>\n",
              "      <td>9489</td>\n",
              "      <td>10029</td>\n",
              "      <td>male</td>\n",
              "      <td>2061-04-10</td>\n",
              "      <td>2140-09-21</td>\n",
              "      <td>NaN</td>\n",
              "      <td>2140-09-21 00:00:00</td>\n",
              "      <td>1</td>\n",
              "    </tr>\n",
              "    <tr>\n",
              "      <th>8</th>\n",
              "      <td>9491</td>\n",
              "      <td>10032</td>\n",
              "      <td>male</td>\n",
              "      <td>2050-03-29</td>\n",
              "      <td>2138-05-21</td>\n",
              "      <td>2138-05-21 00:00:00</td>\n",
              "      <td>2138-05-21 00:00:00</td>\n",
              "      <td>1</td>\n",
              "    </tr>\n",
              "    <tr>\n",
              "      <th>9</th>\n",
              "      <td>9492</td>\n",
              "      <td>10033</td>\n",
              "      <td>female</td>\n",
              "      <td>2051-04-21</td>\n",
              "      <td>2133-09-09</td>\n",
              "      <td>NaN</td>\n",
              "      <td>2133-09-09 00:00:00</td>\n",
              "      <td>1</td>\n",
              "    </tr>\n",
              "  </tbody>\n",
              "</table>\n",
              "</div>"
            ],
            "text/plain": [
              "   row_id  subject_id  ...              dod_ssn expire_flag\n",
              "0    9467       10006  ...  2165-08-12 00:00:00           1\n",
              "1    9472       10011  ...                  NaN           1\n",
              "2    9474       10013  ...  2125-10-07 00:00:00           1\n",
              "3    9478       10017  ...  2152-09-12 00:00:00           1\n",
              "4    9479       10019  ...  2163-05-15 00:00:00           1\n",
              "5    9486       10026  ...  2195-11-24 00:00:00           1\n",
              "6    9487       10027  ...  2190-09-14 00:00:00           1\n",
              "7    9489       10029  ...  2140-09-21 00:00:00           1\n",
              "8    9491       10032  ...  2138-05-21 00:00:00           1\n",
              "9    9492       10033  ...  2133-09-09 00:00:00           1\n",
              "\n",
              "[10 rows x 8 columns]"
            ]
          },
          "metadata": {
            "tags": []
          },
          "execution_count": 14
        }
      ]
    },
    {
      "cell_type": "markdown",
      "metadata": {
        "id": "SpXNb6JEumND",
        "colab_type": "text"
      },
      "source": [
        "Finally, how many of the patients with a diagnosis code of `'5070'` are `male`? (Remember, the gender column should now have values of `male` and `female` not `M` and `F`.)\n",
        "\n",
        "*Hint: You will probably want to use the `isin` method*"
      ]
    },
    {
      "cell_type": "code",
      "metadata": {
        "id": "1KFh44oLumoZ",
        "colab_type": "code",
        "outputId": "52dc6562-3d25-4456-f8b7-5f5dd1cb197d",
        "colab": {
          "base_uri": "https://localhost:8080/",
          "height": 34
        }
      },
      "source": [
        "patients[patients['subject_id'].isin(diagnoses[diagnoses['icd9_code'] == '5070']['subject_id'])]['gender'].value_counts()['male']"
      ],
      "execution_count": 0,
      "outputs": [
        {
          "output_type": "execute_result",
          "data": {
            "text/plain": [
              "9"
            ]
          },
          "metadata": {
            "tags": []
          },
          "execution_count": 15
        }
      ]
    },
    {
      "cell_type": "code",
      "metadata": {
        "id": "AXR4tLW0uogB",
        "colab_type": "code",
        "colab": {}
      },
      "source": [
        ""
      ],
      "execution_count": 0,
      "outputs": []
    }
  ]
}