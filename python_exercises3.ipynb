{
  "nbformat": 4,
  "nbformat_minor": 0,
  "metadata": {
    "colab": {
      "name": "python-exercises3.ipynb",
      "provenance": []
    },
    "kernelspec": {
      "name": "python3",
      "display_name": "Python 3"
    }
  },
  "cells": [
    {
      "cell_type": "markdown",
      "metadata": {
        "id": "OzAwlthxWj14",
        "colab_type": "text"
      },
      "source": [
        "Let's return to our list of words from the first exercise:"
      ]
    },
    {
      "cell_type": "code",
      "metadata": {
        "id": "bQHUwPwnWmpv",
        "colab_type": "code",
        "colab": {}
      },
      "source": [
        "words = [\n",
        "         \"In\", \"order\", \"to\", \"support\", \"research\", \"on\", \"genomics\",\n",
        "         \"proteomics\", \"signaling\", \"on\", \"the\", \"neostriatum\", \"in\",\n",
        "         \"rats\", \"and\", \"humans\", \"proteins\", \"arithmetic\", \"species\",\n",
        "         \"compiled\", \"significant\", \"differences\", \"in\", \"species\", \"primate\",\n",
        "         \"Designation\", \"of\", \"proteins\", \"without\", \"integration\",\n",
        "         \"designation\"\n",
        "]"
      ],
      "execution_count": 0,
      "outputs": []
    },
    {
      "cell_type": "markdown",
      "metadata": {
        "id": "vkFJCWlcWu8m",
        "colab_type": "text"
      },
      "source": [
        "Using a `for` loop, a dictionary, an `if` statement, and an arithmetic operator to build a dictionary whose keys are words and whose values are the counts of the number of times the given word has occurred. \n",
        "\n",
        "*Hint: remember that you can check to see if a key is in a dictionary using the `in` operator.*"
      ]
    },
    {
      "cell_type": "code",
      "metadata": {
        "id": "Zo0fINKaWodB",
        "colab_type": "code",
        "colab": {}
      },
      "source": [
        ""
      ],
      "execution_count": 0,
      "outputs": []
    },
    {
      "cell_type": "markdown",
      "metadata": {
        "id": "ReUmHWb7XOgg",
        "colab_type": "text"
      },
      "source": [
        "Turn your previous code into a function `count_words` that takes a list of words and returns a dictionary of their counts."
      ]
    },
    {
      "cell_type": "code",
      "metadata": {
        "id": "yHsOEVvyXf1M",
        "colab_type": "code",
        "colab": {}
      },
      "source": [
        ""
      ],
      "execution_count": 0,
      "outputs": []
    },
    {
      "cell_type": "markdown",
      "metadata": {
        "id": "cCObvcyMXgst",
        "colab_type": "text"
      },
      "source": [
        "Every string has a `.split()` method that can be used to split it into a list. By default, this method splits at white space (including spaces and line breaks). For example:"
      ]
    },
    {
      "cell_type": "code",
      "metadata": {
        "id": "7FO3ecZMYs6f",
        "colab_type": "code",
        "outputId": "6c3a5abd-54fb-404d-f037-86d0c1fd98ac",
        "colab": {
          "base_uri": "https://localhost:8080/",
          "height": 34
        }
      },
      "source": [
        "short_note = 'Patient reported a stomachache'\n",
        "short_note.split()"
      ],
      "execution_count": 0,
      "outputs": [
        {
          "output_type": "execute_result",
          "data": {
            "text/plain": [
              "['Patient', 'reported', 'a', 'stomachache']"
            ]
          },
          "metadata": {
            "tags": []
          },
          "execution_count": 9
        }
      ]
    },
    {
      "cell_type": "markdown",
      "metadata": {
        "id": "q7cx_2itZUsY",
        "colab_type": "text"
      },
      "source": [
        "Consider instead the following note:"
      ]
    },
    {
      "cell_type": "code",
      "metadata": {
        "id": "uyyCddnZvmbi",
        "colab_type": "code",
        "colab": {}
      },
      "source": [
        "note = '''\n",
        "Patient reported a stomachache\n",
        "\n",
        "When asked what they ate recently the patient reported that they ate nothing out of\n",
        "the ordinary They refused to provide any further information\n",
        "\n",
        "Tests for abdominal muscle injury negative Recommend monitoring and antacid'''\n"
      ],
      "execution_count": 0,
      "outputs": []
    },
    {
      "cell_type": "markdown",
      "metadata": {
        "id": "ZAu0jIdtZX9L",
        "colab_type": "text"
      },
      "source": [
        "Split it into its component words using the `.split()` method and use your `count_words` function to count the number of each word in the note. This can be done in one line:"
      ]
    },
    {
      "cell_type": "code",
      "metadata": {
        "id": "PHGBXG96Z--D",
        "colab_type": "code",
        "colab": {}
      },
      "source": [
        ""
      ],
      "execution_count": 0,
      "outputs": []
    },
    {
      "cell_type": "markdown",
      "metadata": {
        "id": "aTzUCnDjagSK",
        "colab_type": "text"
      },
      "source": [
        "In particular, have the computer report how many times the word `\"patient\"` appears by looking up the word in the dictionary:"
      ]
    },
    {
      "cell_type": "code",
      "metadata": {
        "id": "ijk2ld9gakOF",
        "colab_type": "code",
        "colab": {}
      },
      "source": [
        ""
      ],
      "execution_count": 0,
      "outputs": []
    },
    {
      "cell_type": "markdown",
      "metadata": {
        "id": "eahi6E4paFiy",
        "colab_type": "text"
      },
      "source": [
        "You may have noticed that your code reports \"Patient\" appeared once and \"patient\" also appeared once. This is because they are written differently; one has a capital letter and one does not. Fortunately, Python lets us standardize words into their lowercase forms using a string's `.lower()` method; for example:"
      ]
    },
    {
      "cell_type": "code",
      "metadata": {
        "id": "CfgUexTRYl1D",
        "colab_type": "code",
        "outputId": "072cfde4-18a2-4d2a-ef13-bcb76c46f9b0",
        "colab": {
          "base_uri": "https://localhost:8080/",
          "height": 34
        }
      },
      "source": [
        "short_note.lower()"
      ],
      "execution_count": 0,
      "outputs": [
        {
          "output_type": "execute_result",
          "data": {
            "text/plain": [
              "'patient reported a stomachache'"
            ]
          },
          "metadata": {
            "tags": []
          },
          "execution_count": 10
        }
      ]
    },
    {
      "cell_type": "markdown",
      "metadata": {
        "id": "nkqEBORfc_5G",
        "colab_type": "text"
      },
      "source": [
        "Now, recount the words in `note` by lowercasing them first. How many times does `\"patient\"` appear now? What about `\"injury\"`?"
      ]
    },
    {
      "cell_type": "code",
      "metadata": {
        "id": "3XAAvgPyYmua",
        "colab_type": "code",
        "colab": {}
      },
      "source": [
        ""
      ],
      "execution_count": 0,
      "outputs": []
    },
    {
      "cell_type": "code",
      "metadata": {
        "id": "Z7oELXcJeBJz",
        "colab_type": "code",
        "colab": {}
      },
      "source": [
        ""
      ],
      "execution_count": 0,
      "outputs": []
    },
    {
      "cell_type": "markdown",
      "metadata": {
        "id": "xUWCrmDReB7y",
        "colab_type": "text"
      },
      "source": [
        "Let's return to the patients dictionary from the first exercises:"
      ]
    },
    {
      "cell_type": "code",
      "metadata": {
        "id": "Chv5bHwWe8To",
        "colab_type": "code",
        "colab": {}
      },
      "source": [
        "patients = {\n",
        "    521236: {\n",
        "        'last_name': 'Dawson',\n",
        "        'first_name': 'Louise',\n",
        "        'temperatures': [37.7, 37.2, 37.5, 37.3],\n",
        "        'height': 1.49\n",
        "    },\n",
        "    627256: {\n",
        "        'last_name': 'Valencia',\n",
        "        'first_name': 'Thelma',\n",
        "        'temperatures': [36.5, 36.9],\n",
        "        'height': 1.74\n",
        "    },\n",
        "    876516: {\n",
        "        'last_name': 'Ventura',\n",
        "        'first_name': 'William',\n",
        "        'temperatures': [36.6, 36.8, 37.8, 37.2],\n",
        "        'height': 1.70\n",
        "    },\n",
        "    161451: {\n",
        "        'last_name': 'Shackelford',\n",
        "        'first_name': 'Steven',\n",
        "        'temperatures': [37.9, 38.4, 38.4],\n",
        "        'height': 1.67\n",
        "    },\n",
        "    623724: {\n",
        "        'last_name': 'Rzeczycki',\n",
        "        'first_name': 'Kristi',\n",
        "        'temperatures': [37.9, 37.8],\n",
        "        'height': 1.65\n",
        "    }\n",
        "}"
      ],
      "execution_count": 0,
      "outputs": []
    },
    {
      "cell_type": "markdown",
      "metadata": {
        "id": "D73-BF02iOdj",
        "colab_type": "text"
      },
      "source": [
        "Loop over all the patients (you will want to use `.items()`), and print out the names and heights of all the patients with *more* than three temperature readings; for example, you'll have a line that reads:\n",
        "\n",
        "    William Ventura: 1.7m\n",
        "\n",
        "*Hint: remember that you can use an f-string to print out more than one piece of data on a line*"
      ]
    },
    {
      "cell_type": "code",
      "metadata": {
        "id": "X2KC9GuQiKrZ",
        "colab_type": "code",
        "colab": {}
      },
      "source": [
        ""
      ],
      "execution_count": 0,
      "outputs": []
    }
  ]
}