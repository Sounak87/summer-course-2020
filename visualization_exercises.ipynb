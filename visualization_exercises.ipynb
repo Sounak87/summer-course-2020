{
  "nbformat": 4,
  "nbformat_minor": 0,
  "metadata": {
    "colab": {
      "name": "[YCMI_CBDS Summer Course] visualization-exercises",
      "provenance": [],
      "collapsed_sections": []
    },
    "kernelspec": {
      "name": "python3",
      "display_name": "Python 3"
    }
  },
  "cells": [
    {
      "cell_type": "markdown",
      "metadata": {
        "id": "xKxNt70jQrmc",
        "colab_type": "text"
      },
      "source": [
        "Let's begin by loading our three main libraries: pandas, plotnine, and sqlite3:"
      ]
    },
    {
      "cell_type": "code",
      "metadata": {
        "id": "ud_JJC0werYu",
        "colab_type": "code",
        "colab": {}
      },
      "source": [
        "import pandas as pd\n",
        "import plotnine as p9\n",
        "import sqlite3"
      ],
      "execution_count": 0,
      "outputs": []
    },
    {
      "cell_type": "markdown",
      "metadata": {
        "id": "L4dO88CIQ2yg",
        "colab_type": "text"
      },
      "source": [
        "Let's go ahead and mount the google drive to get easy-access to the course data:"
      ]
    },
    {
      "cell_type": "code",
      "metadata": {
        "id": "cfVnrT3SdEiG",
        "colab_type": "code",
        "colab": {}
      },
      "source": [
        "# mount google drive\n",
        "from google.colab import drive\n",
        "drive.mount('/content/gdrive')"
      ],
      "execution_count": 0,
      "outputs": []
    },
    {
      "cell_type": "markdown",
      "metadata": {
        "id": "xD7V2lSaRANz",
        "colab_type": "text"
      },
      "source": [
        "Let's create a database."
      ]
    },
    {
      "cell_type": "code",
      "metadata": {
        "id": "tbZ1foRYdFVc",
        "colab_type": "code",
        "colab": {}
      },
      "source": [
        "conn = sqlite3.connect('exercises.db')"
      ],
      "execution_count": 0,
      "outputs": []
    },
    {
      "cell_type": "markdown",
      "metadata": {
        "id": "8CaWtcndRNvk",
        "colab_type": "text"
      },
      "source": [
        "Now populate the database with data from MIMIC and the Pima Indian diabetes dataset:"
      ]
    },
    {
      "cell_type": "code",
      "metadata": {
        "id": "GTQyJM8zdZ23",
        "colab_type": "code",
        "colab": {}
      },
      "source": [
        "for filename, table in [\n",
        "          (\"mimic_iii/PATIENTS.csv\", \"patients\"),\n",
        "          (\"mimic_iii/DIAGNOSES_ICD.csv\", \"diagnoses\"),\n",
        "          (\"mimic_iii/D_ICD_DIAGNOSES.csv\", \"d_diagnoses\"),\n",
        "          (\"diabetes.csv\",\"diabetes\")\n",
        "]:\n",
        "  data = pd.read_csv(f'/content/gdrive/My Drive/[YCMI_CBDS Summer Course] Data/{filename}')\n",
        "  data.to_sql(table, conn, if_exists='replace', index=False)"
      ],
      "execution_count": 0,
      "outputs": []
    },
    {
      "cell_type": "markdown",
      "metadata": {
        "id": "FSZOuutPTssy",
        "colab_type": "text"
      },
      "source": [
        "## Exercise 1\n",
        "Do a SQL query using `pd.read_sql_query` to get all the gender information from the `patients` table and plot it in a bar chart:"
      ]
    },
    {
      "cell_type": "code",
      "metadata": {
        "id": "ETeD9XKtUehc",
        "colab_type": "code",
        "colab": {}
      },
      "source": [
        ""
      ],
      "execution_count": 0,
      "outputs": []
    },
    {
      "cell_type": "markdown",
      "metadata": {
        "id": "T6msvUuuU931",
        "colab_type": "text"
      },
      "source": [
        "If all went well, you should have reproduced a figure from Monday. Let's select `gender` and `icd9_code` information from the combination of the `patients` and `diagnoses` tables where their `subject_id`s coincides:"
      ]
    },
    {
      "cell_type": "code",
      "metadata": {
        "id": "6LWF9W33U9Gn",
        "colab_type": "code",
        "colab": {}
      },
      "source": [
        ""
      ],
      "execution_count": 0,
      "outputs": []
    },
    {
      "cell_type": "markdown",
      "metadata": {
        "id": "G_7UOY_nVuKo",
        "colab_type": "text"
      },
      "source": [
        "Your data frame should have 1761 rows and 2 columns.\n",
        "\n",
        "Now plot just the `icd9_code` information in a bar graph:"
      ]
    },
    {
      "cell_type": "code",
      "metadata": {
        "id": "Z_jAMOkiVzHB",
        "colab_type": "code",
        "colab": {}
      },
      "source": [
        ""
      ],
      "execution_count": 0,
      "outputs": []
    },
    {
      "cell_type": "markdown",
      "metadata": {
        "id": "vnP737j0WXPM",
        "colab_type": "text"
      },
      "source": [
        "Whoa, that's way too many codes. Use `.value_counts()` to find out how many distinct `icd9_code` values there are."
      ]
    },
    {
      "cell_type": "code",
      "metadata": {
        "id": "7kofTIDWWGdi",
        "colab_type": "code",
        "colab": {}
      },
      "source": [
        ""
      ],
      "execution_count": 0,
      "outputs": []
    },
    {
      "cell_type": "markdown",
      "metadata": {
        "id": "5HfCwyRrXTMx",
        "colab_type": "text"
      },
      "source": [
        "Compare the `.value_counts()` to 10 and `sum` the result to find the number of diagnoses that appeared more than 10 times. Repeat for more than 20."
      ]
    },
    {
      "cell_type": "code",
      "metadata": {
        "id": "JUaAsGNhXiJ1",
        "colab_type": "code",
        "colab": {}
      },
      "source": [
        ""
      ],
      "execution_count": 0,
      "outputs": []
    },
    {
      "cell_type": "code",
      "metadata": {
        "id": "fX67woy9XiTS",
        "colab_type": "code",
        "colab": {}
      },
      "source": [
        ""
      ],
      "execution_count": 0,
      "outputs": []
    },
    {
      "cell_type": "markdown",
      "metadata": {
        "id": "jfjO74PqXi7n",
        "colab_type": "text"
      },
      "source": [
        "Add this additional condition to your `WHERE` clause with an `AND` to  extract the data only for diagnoses given more than 20 times:\n",
        "```\n",
        "icd9_code IN (\n",
        "    SELECT icd9_code\n",
        "    FROM diagnoses \n",
        "    GROUP BY icd9_code\n",
        "    HAVING COUNT (icd9_code) > 20\n",
        "  )\n",
        "  ```\n",
        "\n",
        "This SELECT inside the parentheses is constructing a one column table listing only those icd9_codes that appear more than 20 times."
      ]
    },
    {
      "cell_type": "code",
      "metadata": {
        "id": "m3ZUYzV0WzlQ",
        "colab_type": "code",
        "colab": {}
      },
      "source": [
        ""
      ],
      "execution_count": 0,
      "outputs": []
    },
    {
      "cell_type": "markdown",
      "metadata": {
        "id": "tqIIECznYclA",
        "colab_type": "text"
      },
      "source": [
        "Using this smaller dataset, make a bar chart comparing the frequencies of various `icd9_code`s:"
      ]
    },
    {
      "cell_type": "code",
      "metadata": {
        "id": "BZ0z4jioZHG_",
        "colab_type": "code",
        "colab": {}
      },
      "source": [
        ""
      ],
      "execution_count": 0,
      "outputs": []
    },
    {
      "cell_type": "markdown",
      "metadata": {
        "id": "yWQ_2kwqZONJ",
        "colab_type": "text"
      },
      "source": [
        "Apply a `fill` aesthetic argument, based on the `gender`:\n",
        "\n"
      ]
    },
    {
      "cell_type": "code",
      "metadata": {
        "id": "FmEoRPPhZX9_",
        "colab_type": "code",
        "colab": {}
      },
      "source": [
        ""
      ],
      "execution_count": 0,
      "outputs": []
    },
    {
      "cell_type": "markdown",
      "metadata": {
        "id": "odg-zJGiZqkg",
        "colab_type": "text"
      },
      "source": [
        "It's clear that `icd9_code` 99592 is assigned to males more than to females, but what about `icd9_code` 2859? It's hard to tell with stacked bar-charts. Recall that we can make the colors appear side-by-side using a `position='dodge'` parameter to `p9.geom_bar()`. Do that:"
      ]
    },
    {
      "cell_type": "code",
      "metadata": {
        "id": "_eIwdS3nW4SA",
        "colab_type": "code",
        "colab": {}
      },
      "source": [
        ""
      ],
      "execution_count": 0,
      "outputs": []
    },
    {
      "cell_type": "markdown",
      "metadata": {
        "id": "NAf3UuEQaaIe",
        "colab_type": "text"
      },
      "source": [
        "We now see clearly that more females got diagnosis code 2859 than males. What do these codes mean though? To find out, redo your SQL query again, this time also pulling in the `short_title` field from `d_diagnoses` where `d_diagnoses.icd9_code == diagnoses.icd9_code`."
      ]
    },
    {
      "cell_type": "code",
      "metadata": {
        "id": "3QU47UYgg1wL",
        "colab_type": "code",
        "colab": {}
      },
      "source": [
        ""
      ],
      "execution_count": 0,
      "outputs": []
    },
    {
      "cell_type": "markdown",
      "metadata": {
        "id": "TngCPM_9bAH-",
        "colab_type": "text"
      },
      "source": [
        "Check the query results to make sure that it looks like what you expect. Strictly speaking, you don't need to have `icd9_code` in your table, but I kept it in, giving me three columns and 426 rows."
      ]
    },
    {
      "cell_type": "code",
      "metadata": {
        "id": "ROz-0TunhRHR",
        "colab_type": "code",
        "colab": {}
      },
      "source": [
        ""
      ],
      "execution_count": 0,
      "outputs": []
    },
    {
      "cell_type": "markdown",
      "metadata": {
        "id": "5RpA_rzFbfA2",
        "colab_type": "text"
      },
      "source": [
        "Now plot it, putting the `short_title` on the x-axis."
      ]
    },
    {
      "cell_type": "code",
      "metadata": {
        "id": "FxXZDNJ8OPkZ",
        "colab_type": "code",
        "colab": {}
      },
      "source": [
        ""
      ],
      "execution_count": 0,
      "outputs": []
    },
    {
      "cell_type": "markdown",
      "metadata": {
        "id": "sFc3hYoNb1Rr",
        "colab_type": "text"
      },
      "source": [
        "Remember that adding `p9.theme(axis_text_x=p9.element_text(angle=90))` will rotate the x-axis labels by 90 degrees, making things easier to read. Do that:"
      ]
    },
    {
      "cell_type": "code",
      "metadata": {
        "id": "Wv0Lnx94lwpX",
        "colab_type": "code",
        "colab": {}
      },
      "source": [
        ""
      ],
      "execution_count": 0,
      "outputs": []
    },
    {
      "cell_type": "markdown",
      "metadata": {
        "id": "1HlQOUmnbyiN",
        "colab_type": "text"
      },
      "source": [
        "Visually, you can now quickly find the names of the four common diagnosis codes that are assigned to females more than to males."
      ]
    },
    {
      "cell_type": "markdown",
      "metadata": {
        "id": "5hbNg6jKdCOd",
        "colab_type": "text"
      },
      "source": [
        "## Exercise 2"
      ]
    },
    {
      "cell_type": "markdown",
      "metadata": {
        "id": "SjGpiu5lpgHB",
        "colab_type": "text"
      },
      "source": [
        "Get solely the `pregnancy`, `Glucose`, `BMI` and `Outcome` from the `diabetes` table (each row representing a single observation of a patient)."
      ]
    },
    {
      "cell_type": "code",
      "metadata": {
        "id": "tANLOt4iqTAs",
        "colab_type": "code",
        "colab": {}
      },
      "source": [
        ""
      ],
      "execution_count": 0,
      "outputs": []
    },
    {
      "cell_type": "markdown",
      "metadata": {
        "id": "sR6flM0YqmVD",
        "colab_type": "text"
      },
      "source": [
        "`Pregnancies` is the number of pregnancies for each subject, we want to recode the value of a new variable, `Pregnancy` to be True if the patient has been pregnant, and False if not.\n",
        "We also want to recode `Outcome` to replace with a descriptive variable (\"diabetes\" or \"no diabetes\").\n",
        "We also want to alter the `Glucose` and `BMI` variables to set those at 0 to be NA, as they represent missingness rather than actual 0 values."
      ]
    },
    {
      "cell_type": "code",
      "metadata": {
        "id": "G0sQ2bzgqz6R",
        "colab_type": "code",
        "colab": {}
      },
      "source": [
        ""
      ],
      "execution_count": 0,
      "outputs": []
    },
    {
      "cell_type": "markdown",
      "metadata": {
        "id": "s_5xUirqfcWC",
        "colab_type": "text"
      },
      "source": [
        "Look at your data frame to see if it looks the way you expect:"
      ]
    },
    {
      "cell_type": "code",
      "metadata": {
        "id": "6lDQms963yux",
        "colab_type": "code",
        "colab": {}
      },
      "source": [
        ""
      ],
      "execution_count": 0,
      "outputs": []
    },
    {
      "cell_type": "markdown",
      "metadata": {
        "id": "JqHfk6dWgmkX",
        "colab_type": "text"
      },
      "source": [
        "We don't need to, but go ahead and drop the `Pregnancies` column, then check to see if your dataframe changed the way you expected."
      ]
    },
    {
      "cell_type": "code",
      "metadata": {
        "id": "dh-r8wHY0GB0",
        "colab_type": "code",
        "colab": {}
      },
      "source": [
        ""
      ],
      "execution_count": 0,
      "outputs": []
    },
    {
      "cell_type": "markdown",
      "metadata": {
        "id": "4GcfiPvxhh-1",
        "colab_type": "text"
      },
      "source": [
        "Make box plots comparing the `Glucose` distribution  by `Diabetes`."
      ]
    },
    {
      "cell_type": "code",
      "metadata": {
        "id": "dH6S5AGo0PYB",
        "colab_type": "code",
        "colab": {}
      },
      "source": [
        ""
      ],
      "execution_count": 0,
      "outputs": []
    },
    {
      "cell_type": "markdown",
      "metadata": {
        "id": "wvOWnZMehspm",
        "colab_type": "text"
      },
      "source": [
        "**INTERPRET YOUR RESULTS**"
      ]
    },
    {
      "cell_type": "markdown",
      "metadata": {
        "id": "NHl5lmKph246",
        "colab_type": "text"
      },
      "source": [
        "Using `p9.facet_wrap`, facet this data by whether or not the patient has been pregnant with `Pregnancy`."
      ]
    },
    {
      "cell_type": "code",
      "metadata": {
        "id": "AwTzZPir5A1q",
        "colab_type": "code",
        "colab": {}
      },
      "source": [
        ""
      ],
      "execution_count": 0,
      "outputs": []
    },
    {
      "cell_type": "markdown",
      "metadata": {
        "id": "ijBrRioJiOqk",
        "colab_type": "text"
      },
      "source": [
        "**INTERPRET THIS GRAPH** How does prior preganancy  affect the likelihood a diabetic has high glucose? A non-diabetic? How does it affect the glucose value?"
      ]
    },
    {
      "cell_type": "markdown",
      "metadata": {
        "id": "x-L6Q4B2jEJQ",
        "colab_type": "text"
      },
      "source": [
        "By specifying aesthetic maps for `x`, `y`, and `fill` create a box plot figure without faceting that compares the `BMI` for different `Outcome` and `Pregnancy` states."
      ]
    },
    {
      "cell_type": "code",
      "metadata": {
        "id": "-jbSOhan5k2u",
        "colab_type": "code",
        "colab": {}
      },
      "source": [
        ""
      ],
      "execution_count": 0,
      "outputs": []
    },
    {
      "cell_type": "markdown",
      "metadata": {
        "id": "to0OSoo3j3Rf",
        "colab_type": "text"
      },
      "source": [
        "How does the median `BMI` compare between pregnant and non-pregnant women in each case? What happens if you switch `fill` and `x`? Does that make it easier or harder to answer this question?\n",
        "\n",
        "Now, repeat the above, but make a violin plot instead."
      ]
    },
    {
      "cell_type": "code",
      "metadata": {
        "id": "AQCNKU2lkdXE",
        "colab_type": "code",
        "colab": {}
      },
      "source": [
        ""
      ],
      "execution_count": 0,
      "outputs": []
    },
    {
      "cell_type": "markdown",
      "metadata": {
        "id": "duUB02nOkqTY",
        "colab_type": "text"
      },
      "source": [
        "Compare the violin plot with the box plot. Can you find an advantage for each type of graph?"
      ]
    },
    {
      "cell_type": "markdown",
      "metadata": {
        "id": "0e0qSIwclZOS",
        "colab_type": "text"
      },
      "source": [
        "Plot `Glucose` vs `BMI` in a way that allows comparing the two `Outcome` cases. How do the values of `Glucose` for those with diabetes compare to those not having diabetes?"
      ]
    },
    {
      "cell_type": "code",
      "metadata": {
        "id": "okf0T8G-6j5V",
        "colab_type": "code",
        "colab": {}
      },
      "source": [
        ""
      ],
      "execution_count": 0,
      "outputs": []
    },
    {
      "cell_type": "markdown",
      "metadata": {
        "id": "cvXfCIOZj11z",
        "colab_type": "text"
      },
      "source": [
        "Use `p9.geom_smooth` to compare trend lines for how `Glucose` changes as `BMI` changes by `Outcome`. Is this a valid trendline?"
      ]
    },
    {
      "cell_type": "code",
      "metadata": {
        "id": "gDujGNWcIRTK",
        "colab_type": "code",
        "colab": {}
      },
      "source": [
        ""
      ],
      "execution_count": 0,
      "outputs": []
    },
    {
      "cell_type": "markdown",
      "metadata": {
        "id": "Bkj2WC9snZel",
        "colab_type": "text"
      },
      "source": [
        "Do diabetics and non-diabetics show different body mass indices? Start by making a box-plot to compare them:"
      ]
    },
    {
      "cell_type": "code",
      "metadata": {
        "id": "lpKdGZoOnwIp",
        "colab_type": "code",
        "colab": {}
      },
      "source": [
        ""
      ],
      "execution_count": 0,
      "outputs": []
    },
    {
      "cell_type": "markdown",
      "metadata": {
        "id": "l7DflMtTn6hZ",
        "colab_type": "text"
      },
      "source": [
        "Non-diabetics have an slightly lower median, but the ranges mostly overlap. We know what the subdivision looks like for pregnancy from our previous plot, with those women, with pregnancies having a slightly lower BMI irrespective of diabetic outcome.\n",
        "When we swap our `fill` and `x`, we observe that the division between diabetics and non-diabetics is clearer within the pregnancy categories."
      ]
    },
    {
      "cell_type": "code",
      "metadata": {
        "id": "lfRCDiZPqZRt",
        "colab_type": "code",
        "colab": {}
      },
      "source": [
        ""
      ],
      "execution_count": 0,
      "outputs": []
    }
  ]
}