{
  "nbformat": 4,
  "nbformat_minor": 0,
  "metadata": {
    "colab": {
      "name": "python-solutions-1.ipynb",
      "provenance": [],
      "collapsed_sections": []
    },
    "kernelspec": {
      "name": "python3",
      "display_name": "Python 3"
    }
  },
  "cells": [
    {
      "cell_type": "markdown",
      "metadata": {
        "id": "EVAzbZQQKwhl",
        "colab_type": "text"
      },
      "source": [
        "Consider the following list of words:"
      ]
    },
    {
      "cell_type": "code",
      "metadata": {
        "id": "wYWFhAswKyP4",
        "colab_type": "code",
        "colab": {}
      },
      "source": [
        "words = [\n",
        "         \"In\", \"order\", \"to\", \"support\", \"research\", \"on\", \"genomics\",\n",
        "         \"proteomics\", \"signaling\", \"on\", \"the\", \"neostriatum\", \"in\",\n",
        "         \"rats\", \"and\", \"humans\", \"proteins\", \"arithmetic\", \"species\",\n",
        "         \"compiled\", \"significant\", \"differences\", \"in\", \"species\", \"primate\",\n",
        "         \"Designation\", \"of\", \"proteins\", \"without\", \"integration\",\n",
        "         \"designation\"\n",
        "]"
      ],
      "execution_count": 0,
      "outputs": []
    },
    {
      "cell_type": "markdown",
      "metadata": {
        "id": "kUbIRVVZLXEL",
        "colab_type": "text"
      },
      "source": [
        "How many words are in the `words` list? Use the `len` function to find out:"
      ]
    },
    {
      "cell_type": "code",
      "metadata": {
        "id": "jih_MXN5LViM",
        "colab_type": "code",
        "colab": {
          "base_uri": "https://localhost:8080/",
          "height": 34
        },
        "outputId": "08ea860d-fbbf-411d-eceb-c97fe04b6511"
      },
      "source": [
        "len(words)"
      ],
      "execution_count": 2,
      "outputs": [
        {
          "output_type": "execute_result",
          "data": {
            "text/plain": [
              "31"
            ]
          },
          "metadata": {
            "tags": []
          },
          "execution_count": 2
        }
      ]
    },
    {
      "cell_type": "markdown",
      "metadata": {
        "id": "Znwhz0ArLuG1",
        "colab_type": "text"
      },
      "source": [
        "Copy-paste the list of words here, but (1) assign it to a different variable `my_words` and (2) replace the square brackets `[]` with curly brackets `{}` to create a **set**."
      ]
    },
    {
      "cell_type": "code",
      "metadata": {
        "id": "sAhO6XVULsiH",
        "colab_type": "code",
        "colab": {}
      },
      "source": [
        "my_words = {\n",
        "         \"In\", \"order\", \"to\", \"support\", \"research\", \"on\", \"genomics\",\n",
        "         \"proteomics\", \"signaling\", \"on\", \"the\", \"neostriatum\", \"in\",\n",
        "         \"rats\", \"and\", \"humans\", \"proteins\", \"arithmetic\", \"species\",\n",
        "         \"compiled\", \"significant\", \"differences\", \"in\", \"species\", \"primate\",\n",
        "         \"Designation\", \"of\", \"proteins\", \"without\", \"integration\",\n",
        "         \"designation\"\n",
        "}"
      ],
      "execution_count": 0,
      "outputs": []
    },
    {
      "cell_type": "markdown",
      "metadata": {
        "id": "mJmYQtEEMTwJ",
        "colab_type": "text"
      },
      "source": [
        "Use the `len` function on `my_words` to find out how many unique words are in the set. (Remember, sets do not have repeats but lists do.)"
      ]
    },
    {
      "cell_type": "code",
      "metadata": {
        "id": "YITQGVzUMQPr",
        "colab_type": "code",
        "colab": {
          "base_uri": "https://localhost:8080/",
          "height": 34
        },
        "outputId": "b8150fb4-98f8-4916-97c7-b9fecd9ca83d"
      },
      "source": [
        "len(my_words)"
      ],
      "execution_count": 4,
      "outputs": [
        {
          "output_type": "execute_result",
          "data": {
            "text/plain": [
              "27"
            ]
          },
          "metadata": {
            "tags": []
          },
          "execution_count": 4
        }
      ]
    },
    {
      "cell_type": "markdown",
      "metadata": {
        "id": "w8e6U7ITkM2J",
        "colab_type": "text"
      },
      "source": [
        "Do the words \"proteins\" and \"genes\" appear in the set of `my_words`? Check for them using `in`."
      ]
    },
    {
      "cell_type": "code",
      "metadata": {
        "id": "r3udvkBbkeME",
        "colab_type": "code",
        "colab": {
          "base_uri": "https://localhost:8080/",
          "height": 34
        },
        "outputId": "2a2d5715-77f0-49bd-a67f-acc6cd7b61df"
      },
      "source": [
        "'proteins' in my_words"
      ],
      "execution_count": 5,
      "outputs": [
        {
          "output_type": "execute_result",
          "data": {
            "text/plain": [
              "True"
            ]
          },
          "metadata": {
            "tags": []
          },
          "execution_count": 5
        }
      ]
    },
    {
      "cell_type": "code",
      "metadata": {
        "id": "sFQwjUyikeZd",
        "colab_type": "code",
        "colab": {
          "base_uri": "https://localhost:8080/",
          "height": 34
        },
        "outputId": "1aa2c62d-3faa-46f6-c97e-d7f570eea50f"
      },
      "source": [
        "'genes' in my_words"
      ],
      "execution_count": 6,
      "outputs": [
        {
          "output_type": "execute_result",
          "data": {
            "text/plain": [
              "False"
            ]
          },
          "metadata": {
            "tags": []
          },
          "execution_count": 6
        }
      ]
    },
    {
      "cell_type": "markdown",
      "metadata": {
        "id": "hky3BML7cGmE",
        "colab_type": "text"
      },
      "source": [
        "Consider the following dictionary of patients and their data. The keys of the dictionary are unique identifiers assigned to each patient. This allows the system to distinguish multiple people with the same name."
      ]
    },
    {
      "cell_type": "code",
      "metadata": {
        "id": "KjY1GwmiMRTS",
        "colab_type": "code",
        "colab": {}
      },
      "source": [
        "patients = {\n",
        "    521236: {\n",
        "        'last_name': 'Dawson',\n",
        "        'first_name': 'Louise',\n",
        "        'temperatures': [37.7, 37.2, 37.5, 37.3],\n",
        "        'height': 1.49\n",
        "    },\n",
        "    627256: {\n",
        "        'last_name': 'Valencia',\n",
        "        'first_name': 'Thelma',\n",
        "        'temperatures': [36.5, 36.9],\n",
        "        'height': 1.74\n",
        "    },\n",
        "    876516: {\n",
        "        'last_name': 'Ventura',\n",
        "        'first_name': 'William',\n",
        "        'temperatures': [36.6, 36.8, 37.8, 37.2],\n",
        "        'height': 1.70\n",
        "    },\n",
        "    161451: {\n",
        "        'last_name': 'Shackelford',\n",
        "        'first_name': 'Steven',\n",
        "        'temperatures': [37.9, 38.4, 38.4],\n",
        "        'height': 1.67\n",
        "    },\n",
        "    623724: {\n",
        "        'last_name': 'Rzeczycki',\n",
        "        'first_name': 'Kristi',\n",
        "        'temperatures': [37.9, 37.8],\n",
        "        'height': 1.65\n",
        "    }\n",
        "}"
      ],
      "execution_count": 0,
      "outputs": []
    },
    {
      "cell_type": "markdown",
      "metadata": {
        "id": "QPSwHENMgyrK",
        "colab_type": "text"
      },
      "source": [
        "How many patients are there? Use `len` to find out."
      ]
    },
    {
      "cell_type": "code",
      "metadata": {
        "id": "24dNd5iMg4lV",
        "colab_type": "code",
        "colab": {
          "base_uri": "https://localhost:8080/",
          "height": 34
        },
        "outputId": "908dd5ea-a9b0-4e09-c9b3-31c028e33180"
      },
      "source": [
        "len(patients)"
      ],
      "execution_count": 8,
      "outputs": [
        {
          "output_type": "execute_result",
          "data": {
            "text/plain": [
              "5"
            ]
          },
          "metadata": {
            "tags": []
          },
          "execution_count": 8
        }
      ]
    },
    {
      "cell_type": "markdown",
      "metadata": {
        "id": "Xz_2RUFDjEfd",
        "colab_type": "text"
      },
      "source": [
        "What is the height of patient 876516? Write code using `[]` to find out."
      ]
    },
    {
      "cell_type": "code",
      "metadata": {
        "id": "QFTtszUajKI0",
        "colab_type": "code",
        "colab": {
          "base_uri": "https://localhost:8080/",
          "height": 34
        },
        "outputId": "e032c095-136b-457c-ced2-20245919734a"
      },
      "source": [
        "patients[876516]['height']"
      ],
      "execution_count": 9,
      "outputs": [
        {
          "output_type": "execute_result",
          "data": {
            "text/plain": [
              "1.7"
            ]
          },
          "metadata": {
            "tags": []
          },
          "execution_count": 9
        }
      ]
    },
    {
      "cell_type": "markdown",
      "metadata": {
        "id": "akVNcnGUjKmZ",
        "colab_type": "text"
      },
      "source": [
        "Given that the height is measured in meters and that there are 2.54 cm for every inch, how tall is patient 876516 in inches? Write code to find out."
      ]
    },
    {
      "cell_type": "code",
      "metadata": {
        "id": "hkLa-_iMjzOm",
        "colab_type": "code",
        "colab": {
          "base_uri": "https://localhost:8080/",
          "height": 34
        },
        "outputId": "aba1120c-b0db-42f7-b8ec-0749e5014b52"
      },
      "source": [
        "patients[876516]['height'] * 100 / 2.54"
      ],
      "execution_count": 10,
      "outputs": [
        {
          "output_type": "execute_result",
          "data": {
            "text/plain": [
              "66.92913385826772"
            ]
          },
          "metadata": {
            "tags": []
          },
          "execution_count": 10
        }
      ]
    },
    {
      "cell_type": "markdown",
      "metadata": {
        "id": "i71n3LDTi0B2",
        "colab_type": "text"
      },
      "source": [
        "How many temperature readings have been made for patient 876516? Write code using `[]` and `len` to find out."
      ]
    },
    {
      "cell_type": "code",
      "metadata": {
        "id": "aA_U2XDhi-dZ",
        "colab_type": "code",
        "colab": {
          "base_uri": "https://localhost:8080/",
          "height": 34
        },
        "outputId": "f5f084cc-4873-4535-b467-393b439886a7"
      },
      "source": [
        "len(patients[876516]['temperatures'])"
      ],
      "execution_count": 11,
      "outputs": [
        {
          "output_type": "execute_result",
          "data": {
            "text/plain": [
              "4"
            ]
          },
          "metadata": {
            "tags": []
          },
          "execution_count": 11
        }
      ]
    },
    {
      "cell_type": "markdown",
      "metadata": {
        "id": "rN-np9Oyj8Xv",
        "colab_type": "text"
      },
      "source": [
        "What is the maximum temperature reading for patient 876516? Use `max`."
      ]
    },
    {
      "cell_type": "code",
      "metadata": {
        "id": "go3YArWpkBAI",
        "colab_type": "code",
        "colab": {
          "base_uri": "https://localhost:8080/",
          "height": 34
        },
        "outputId": "e69b0f22-0e9c-47c8-f5d7-ca6797f0c391"
      },
      "source": [
        "max(patients[876516]['temperatures'])"
      ],
      "execution_count": 12,
      "outputs": [
        {
          "output_type": "execute_result",
          "data": {
            "text/plain": [
              "37.8"
            ]
          },
          "metadata": {
            "tags": []
          },
          "execution_count": 12
        }
      ]
    },
    {
      "cell_type": "markdown",
      "metadata": {
        "id": "oNv7uLgcknah",
        "colab_type": "text"
      },
      "source": [
        "What was the second temperature reading recorded for patient 876516? Use `[]`. Your answer should be 36.8. If you get a different answer, figure out why and fix your query."
      ]
    },
    {
      "cell_type": "code",
      "metadata": {
        "id": "ZN3tJ2e4lDGL",
        "colab_type": "code",
        "colab": {
          "base_uri": "https://localhost:8080/",
          "height": 34
        },
        "outputId": "581b17dc-8254-47b3-ca26-dc4b9fa219c9"
      },
      "source": [
        "patients[876516]['temperatures'][1]"
      ],
      "execution_count": 13,
      "outputs": [
        {
          "output_type": "execute_result",
          "data": {
            "text/plain": [
              "36.8"
            ]
          },
          "metadata": {
            "tags": []
          },
          "execution_count": 13
        }
      ]
    },
    {
      "cell_type": "markdown",
      "metadata": {
        "id": "uTKfDKKCg47v",
        "colab_type": "text"
      },
      "source": [
        "Do we have data for the patient 531616? What about patient 161451? Test for them using `in`."
      ]
    },
    {
      "cell_type": "code",
      "metadata": {
        "id": "EVDuwqx6j3JK",
        "colab_type": "code",
        "colab": {
          "base_uri": "https://localhost:8080/",
          "height": 34
        },
        "outputId": "aa171ed0-7314-4604-df65-9dd77c50a06f"
      },
      "source": [
        "531616 in patients"
      ],
      "execution_count": 14,
      "outputs": [
        {
          "output_type": "execute_result",
          "data": {
            "text/plain": [
              "False"
            ]
          },
          "metadata": {
            "tags": []
          },
          "execution_count": 14
        }
      ]
    },
    {
      "cell_type": "code",
      "metadata": {
        "id": "l5yvpMvdjj_z",
        "colab_type": "code",
        "colab": {
          "base_uri": "https://localhost:8080/",
          "height": 34
        },
        "outputId": "1cbbbb10-04be-480f-e161-defcda39c0ae"
      },
      "source": [
        "161451 in patients"
      ],
      "execution_count": 15,
      "outputs": [
        {
          "output_type": "execute_result",
          "data": {
            "text/plain": [
              "True"
            ]
          },
          "metadata": {
            "tags": []
          },
          "execution_count": 15
        }
      ]
    },
    {
      "cell_type": "markdown",
      "metadata": {
        "id": "EDx1mqlplXAz",
        "colab_type": "text"
      },
      "source": [
        "**append** a new temperature reading of 38.3 for patient 623724. After you have done so, find the maximum and minimum of their measured temperature values."
      ]
    },
    {
      "cell_type": "code",
      "metadata": {
        "id": "f_USiUcwlvXX",
        "colab_type": "code",
        "colab": {}
      },
      "source": [
        "patients[623724]['temperatures'].append(38.3)"
      ],
      "execution_count": 0,
      "outputs": []
    },
    {
      "cell_type": "code",
      "metadata": {
        "id": "YpMXxWQllvam",
        "colab_type": "code",
        "colab": {
          "base_uri": "https://localhost:8080/",
          "height": 34
        },
        "outputId": "34ec2f2c-94ee-4861-d92e-09f8abc91df1"
      },
      "source": [
        "max(patients[623724]['temperatures'])"
      ],
      "execution_count": 17,
      "outputs": [
        {
          "output_type": "execute_result",
          "data": {
            "text/plain": [
              "38.3"
            ]
          },
          "metadata": {
            "tags": []
          },
          "execution_count": 17
        }
      ]
    },
    {
      "cell_type": "code",
      "metadata": {
        "id": "xt8YUItrlvdU",
        "colab_type": "code",
        "colab": {
          "base_uri": "https://localhost:8080/",
          "height": 34
        },
        "outputId": "af078c32-1d05-4992-da1a-fbd7405e2c61"
      },
      "source": [
        "min(patients[623724]['temperatures'])"
      ],
      "execution_count": 18,
      "outputs": [
        {
          "output_type": "execute_result",
          "data": {
            "text/plain": [
              "37.8"
            ]
          },
          "metadata": {
            "tags": []
          },
          "execution_count": 18
        }
      ]
    },
    {
      "cell_type": "markdown",
      "metadata": {
        "id": "P2h3kqsPl0Pw",
        "colab_type": "text"
      },
      "source": [
        "Add Susan Sinclair (patient 517235) to the dictionary. She is 1.67m tall and has never had her temperature recorded (i.e. the list is `[]`)."
      ]
    },
    {
      "cell_type": "code",
      "metadata": {
        "id": "TtdaEthfmfps",
        "colab_type": "code",
        "colab": {}
      },
      "source": [
        "patients[517235] = {\n",
        "    'last_name': 'Sinclair',\n",
        "    'first_name': 'Susan',\n",
        "    'temperatures': [],\n",
        "    'height': 1.67\n",
        "}"
      ],
      "execution_count": 0,
      "outputs": []
    },
    {
      "cell_type": "markdown",
      "metadata": {
        "id": "mwOcugmomopP",
        "colab_type": "text"
      },
      "source": [
        "Verify that you added her successfully by checking the number of patients in the dictionary. There should be six."
      ]
    },
    {
      "cell_type": "code",
      "metadata": {
        "id": "YpComTskmx1D",
        "colab_type": "code",
        "colab": {
          "base_uri": "https://localhost:8080/",
          "height": 34
        },
        "outputId": "8b897f3c-7255-4ff4-d57a-db5e9a1bf9a3"
      },
      "source": [
        "len(patients)"
      ],
      "execution_count": 20,
      "outputs": [
        {
          "output_type": "execute_result",
          "data": {
            "text/plain": [
              "6"
            ]
          },
          "metadata": {
            "tags": []
          },
          "execution_count": 20
        }
      ]
    },
    {
      "cell_type": "markdown",
      "metadata": {
        "id": "DFk5VlgXaJbn",
        "colab_type": "text"
      },
      "source": [
        "Suppose that the number of patients in your system doubles every 10 days. How many patients will you have in 30 days? Hint: start with the `len(patients)` you have now and multiply it by 2 raised to the power of the number of doublings (which you can compute using division)."
      ]
    },
    {
      "cell_type": "code",
      "metadata": {
        "id": "ULzXWvB-buSH",
        "colab_type": "code",
        "colab": {
          "base_uri": "https://localhost:8080/",
          "height": 34
        },
        "outputId": "b354fb07-814c-403e-9ef3-1ff9c45f25ee"
      },
      "source": [
        "len(patients) * 2 ** (30 / 10)"
      ],
      "execution_count": 21,
      "outputs": [
        {
          "output_type": "execute_result",
          "data": {
            "text/plain": [
              "48.0"
            ]
          },
          "metadata": {
            "tags": []
          },
          "execution_count": 21
        }
      ]
    },
    {
      "cell_type": "code",
      "metadata": {
        "id": "MSL_YFJAkWCg",
        "colab_type": "code",
        "colab": {}
      },
      "source": [
        ""
      ],
      "execution_count": 0,
      "outputs": []
    }
  ]
}