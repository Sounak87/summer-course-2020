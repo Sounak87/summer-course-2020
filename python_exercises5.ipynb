{
  "nbformat": 4,
  "nbformat_minor": 0,
  "metadata": {
    "colab": {
      "name": "python-exercises5.ipynb",
      "provenance": [],
      "collapsed_sections": []
    },
    "kernelspec": {
      "name": "python3",
      "display_name": "Python 3"
    }
  },
  "cells": [
    {
      "cell_type": "markdown",
      "metadata": {
        "id": "TTHji6R7-RHk",
        "colab_type": "text"
      },
      "source": [
        "Let's go ahead and mount the google drive to get easy-access to the course data:"
      ]
    },
    {
      "cell_type": "code",
      "metadata": {
        "id": "RJ9N2bZV-JNw",
        "colab_type": "code",
        "colab": {}
      },
      "source": [
        "# mount google drive\n",
        "from google.colab import drive\n",
        "drive.mount('/content/gdrive')"
      ],
      "execution_count": 0,
      "outputs": []
    },
    {
      "cell_type": "markdown",
      "metadata": {
        "id": "1Yz0xzdTqG9N",
        "colab_type": "text"
      },
      "source": [
        "Import the `pandas` library; for convenience, call it `pd`."
      ]
    },
    {
      "cell_type": "code",
      "metadata": {
        "id": "9-DvEwvXqMeV",
        "colab_type": "code",
        "colab": {}
      },
      "source": [
        ""
      ],
      "execution_count": 0,
      "outputs": []
    },
    {
      "cell_type": "markdown",
      "metadata": {
        "id": "Xstda857njsy",
        "colab_type": "text"
      },
      "source": [
        "Using `pd.read_csv`, load both files (`PATIENTS.csv` and `DIAGNOSES_ICD.csv`) from the <a href=\"https://alpha.physionet.org/content/mimiciii-demo/1.4/\">MIMIC-III Clinical Database Demo</a> which licenses them under the <a href=\"https://opendatacommons.org/licenses/odbl/index.html\">ODC Open Database License (ODbl)</a>.\n",
        "\n",
        "**References:**\n",
        "\n",
        "Johnson, A., Pollard, T., Mark, R. (2019). MIMIC-III Clinical Database Demo. PhysioNet. doi:10.13026/C2HM2Q\n",
        "\n",
        "Johnson, A. E. W., Pollard, T. J., Shen, L., Lehman, L. H., Feng, M., Ghassemi, M., Moody, B., Szolovits, P., Celi, L. A., & Mark, R. G. (2016). MIMIC-III, a freely accessible critical care database. Scientific Data, 3, 160035.\n",
        "\n",
        "Goldberger AL, Amaral LAN, Glass L, Hausdorff JM, Ivanov PCh, Mark RG, Mietus JE, Moody GB, Peng C-K, Stanley HE. PhysioBank, PhysioToolkit, and PhysioNet: Components of a New Research Resource for Complex Physiologic Signals (2003). Circulation. 101(23):e215-e220."
      ]
    },
    {
      "cell_type": "code",
      "metadata": {
        "id": "U35KxKXJm1dd",
        "colab_type": "code",
        "colab": {}
      },
      "source": [
        "patients = pd.read_csv('/content/gdrive/My Drive/[YCMI_CBDS Summer Course] Data/PATIENTS.csv')\n",
        "diagnoses = pd.read_csv('/content/gdrive/My Drive/[YCMI_CBDS Summer Course] Data/DIAGNOSES_ICD.csv')"
      ],
      "execution_count": 0,
      "outputs": []
    },
    {
      "cell_type": "markdown",
      "metadata": {
        "id": "sLxBo0bRp9dl",
        "colab_type": "text"
      },
      "source": [
        "Use the `.head()` method to get a sense of what each of the two data frames looks like. You will likely want to do this anytime you start working with new data:"
      ]
    },
    {
      "cell_type": "code",
      "metadata": {
        "id": "iEMk_CW4sN2G",
        "colab_type": "code",
        "colab": {}
      },
      "source": [
        ""
      ],
      "execution_count": 0,
      "outputs": []
    },
    {
      "cell_type": "code",
      "metadata": {
        "id": "URo9JJR-sN4j",
        "colab_type": "code",
        "colab": {}
      },
      "source": [
        ""
      ],
      "execution_count": 0,
      "outputs": []
    },
    {
      "cell_type": "markdown",
      "metadata": {
        "id": "WGIgbGN6sOiI",
        "colab_type": "text"
      },
      "source": [
        "You may have noticed that the patients data frame has a column `gender`. Run the `value_counts` method on the patients `gender` column to see how many males and females are in the data set."
      ]
    },
    {
      "cell_type": "code",
      "metadata": {
        "id": "IfaitE5BnFJ5",
        "colab_type": "code",
        "colab": {}
      },
      "source": [
        ""
      ],
      "execution_count": 0,
      "outputs": []
    },
    {
      "cell_type": "markdown",
      "metadata": {
        "id": "zPkZcw5ruF_d",
        "colab_type": "text"
      },
      "source": [
        "You may have also noticed that there are several timestamp columns, including `dob` (date of birth) and `dod` (date of death). By default, the computer is treating them as text. Replace the contents of these columns with the values converted into timestamps using `pd.to_datetime`."
      ]
    },
    {
      "cell_type": "code",
      "metadata": {
        "id": "vGFwLeVhu-3R",
        "colab_type": "code",
        "colab": {}
      },
      "source": [
        ""
      ],
      "execution_count": 0,
      "outputs": []
    },
    {
      "cell_type": "markdown",
      "metadata": {
        "id": "2W5slakHsvLu",
        "colab_type": "text"
      },
      "source": [
        "Can you tell the difference by looking at the head of `patients`?"
      ]
    },
    {
      "cell_type": "code",
      "metadata": {
        "id": "yj6Snifjtgih",
        "colab_type": "code",
        "colab": {}
      },
      "source": [
        ""
      ],
      "execution_count": 0,
      "outputs": []
    },
    {
      "cell_type": "markdown",
      "metadata": {
        "id": "AbtYyBGZktwP",
        "colab_type": "text"
      },
      "source": [
        "What's the earliest any of the patients were born? Use `min`."
      ]
    },
    {
      "cell_type": "code",
      "metadata": {
        "id": "PrBYSWcHkv3g",
        "colab_type": "code",
        "colab": {}
      },
      "source": [
        ""
      ],
      "execution_count": 0,
      "outputs": []
    },
    {
      "cell_type": "markdown",
      "metadata": {
        "id": "gke0movplSx-",
        "colab_type": "text"
      },
      "source": [
        "Which patient was born first?"
      ]
    },
    {
      "cell_type": "code",
      "metadata": {
        "id": "PYJxJXoalT4F",
        "colab_type": "code",
        "colab": {}
      },
      "source": [
        ""
      ],
      "execution_count": 0,
      "outputs": []
    },
    {
      "cell_type": "markdown",
      "metadata": {
        "id": "fBMeiAIx0UDV",
        "colab_type": "text"
      },
      "source": [
        "Find all the patients who were born before January 1, 2020."
      ]
    },
    {
      "cell_type": "code",
      "metadata": {
        "id": "hPPbVBdvth2B",
        "colab_type": "code",
        "colab": {}
      },
      "source": [
        ""
      ],
      "execution_count": 0,
      "outputs": []
    },
    {
      "cell_type": "markdown",
      "metadata": {
        "id": "jz74kKAC0bkH",
        "colab_type": "text"
      },
      "source": [
        "How many men were born before January 1, 2020? How many women? (Use `.value_counts()`)."
      ]
    },
    {
      "cell_type": "code",
      "metadata": {
        "id": "yq_vS6-C0xMB",
        "colab_type": "code",
        "colab": {}
      },
      "source": [
        ""
      ],
      "execution_count": 0,
      "outputs": []
    },
    {
      "cell_type": "markdown",
      "metadata": {
        "id": "UpX9ruDInLX3",
        "colab_type": "text"
      },
      "source": [
        "Using the data from `DIAGNOSES_ICD.csv`, how many patients (`subject_id`) recieved an `icd9_code` diagnosis of `'5070'` (the string)? How is this different from the number of times that diagnosis code appears in the dataset?\n",
        "\n",
        "*Hint: you will want to use the set function to turn a pandas series into a set*"
      ]
    },
    {
      "cell_type": "code",
      "metadata": {
        "id": "MYsnV-vYz2Nq",
        "colab_type": "code",
        "colab": {}
      },
      "source": [
        ""
      ],
      "execution_count": 0,
      "outputs": []
    },
    {
      "cell_type": "markdown",
      "metadata": {
        "id": "VDULFg9woojK",
        "colab_type": "text"
      },
      "source": [
        "Replace the use of `M` and `F` for identifying gender with the terms `'male'` and `'female'` in the `gender` column of `patients`. Use the data frame's `head` method with the appropriate argument to show the first 10 rows to make sure you did it right."
      ]
    },
    {
      "cell_type": "code",
      "metadata": {
        "id": "oFsq6SAsovQf",
        "colab_type": "code",
        "colab": {}
      },
      "source": [
        ""
      ],
      "execution_count": 0,
      "outputs": []
    },
    {
      "cell_type": "markdown",
      "metadata": {
        "id": "gwpoWCmYtHvG",
        "colab_type": "text"
      },
      "source": [
        "Finally, how many of the patients with a diagnosis code of `'5070'` are `male`? (Remember, the gender column should now have values of `male` and `female` not `M` and `F`.)\n",
        "\n",
        "*Hint: You will probably want to use the `isin` method*"
      ]
    },
    {
      "cell_type": "code",
      "metadata": {
        "id": "0ZNHFw2utepk",
        "colab_type": "code",
        "colab": {}
      },
      "source": [
        ""
      ],
      "execution_count": 0,
      "outputs": []
    }
  ]
}