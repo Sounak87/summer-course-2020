{
  "nbformat": 4,
  "nbformat_minor": 0,
  "metadata": {
    "colab": {
      "name": "python-solutions-3.ipynb",
      "provenance": []
    },
    "kernelspec": {
      "name": "python3",
      "display_name": "Python 3"
    }
  },
  "cells": [
    {
      "cell_type": "markdown",
      "metadata": {
        "id": "OzAwlthxWj14",
        "colab_type": "text"
      },
      "source": [
        "Let's return to our list of words from the first exercise:"
      ]
    },
    {
      "cell_type": "code",
      "metadata": {
        "id": "bQHUwPwnWmpv",
        "colab_type": "code",
        "colab": {}
      },
      "source": [
        "words = [\n",
        "         \"In\", \"order\", \"to\", \"support\", \"research\", \"on\", \"genomics\",\n",
        "         \"proteomics\", \"signaling\", \"on\", \"the\", \"neostriatum\", \"in\",\n",
        "         \"rats\", \"and\", \"humans\", \"proteins\", \"arithmetic\", \"species\",\n",
        "         \"compiled\", \"significant\", \"differences\", \"in\", \"species\", \"primate\",\n",
        "         \"Designation\", \"of\", \"proteins\", \"without\", \"integration\",\n",
        "         \"designation\"\n",
        "]"
      ],
      "execution_count": 0,
      "outputs": []
    },
    {
      "cell_type": "markdown",
      "metadata": {
        "id": "vkFJCWlcWu8m",
        "colab_type": "text"
      },
      "source": [
        "Using a `for` loop, a dictionary, an `if` statement, and an arithmetic operator to build a dictionary whose keys are words and whose values are the counts of the number of times the given word has occurred. \n",
        "\n",
        "*Hint: remember that you can check to see if a key is in a dictionary using the `in` operator.*"
      ]
    },
    {
      "cell_type": "code",
      "metadata": {
        "id": "Zo0fINKaWodB",
        "colab_type": "code",
        "colab": {}
      },
      "source": [
        "counts = {}\n",
        "for word in words:\n",
        "  if word in counts:\n",
        "    counts[word] = counts[word] + 1\n",
        "  else:\n",
        "    counts[word] = 1"
      ],
      "execution_count": 0,
      "outputs": []
    },
    {
      "cell_type": "code",
      "metadata": {
        "id": "CZ7LIUWqls6u",
        "colab_type": "code",
        "colab": {
          "base_uri": "https://localhost:8080/",
          "height": 486
        },
        "outputId": "64a4aff0-77b9-477b-c293-13059e957cb8"
      },
      "source": [
        "counts"
      ],
      "execution_count": 3,
      "outputs": [
        {
          "output_type": "execute_result",
          "data": {
            "text/plain": [
              "{'Designation': 1,\n",
              " 'In': 1,\n",
              " 'and': 1,\n",
              " 'arithmetic': 1,\n",
              " 'compiled': 1,\n",
              " 'designation': 1,\n",
              " 'differences': 1,\n",
              " 'genomics': 1,\n",
              " 'humans': 1,\n",
              " 'in': 2,\n",
              " 'integration': 1,\n",
              " 'neostriatum': 1,\n",
              " 'of': 1,\n",
              " 'on': 2,\n",
              " 'order': 1,\n",
              " 'primate': 1,\n",
              " 'proteins': 2,\n",
              " 'proteomics': 1,\n",
              " 'rats': 1,\n",
              " 'research': 1,\n",
              " 'signaling': 1,\n",
              " 'significant': 1,\n",
              " 'species': 2,\n",
              " 'support': 1,\n",
              " 'the': 1,\n",
              " 'to': 1,\n",
              " 'without': 1}"
            ]
          },
          "metadata": {
            "tags": []
          },
          "execution_count": 3
        }
      ]
    },
    {
      "cell_type": "markdown",
      "metadata": {
        "id": "ReUmHWb7XOgg",
        "colab_type": "text"
      },
      "source": [
        "Turn your previous code into a function `count_words` that takes a list of words and returns a dictionary of their counts."
      ]
    },
    {
      "cell_type": "code",
      "metadata": {
        "id": "yHsOEVvyXf1M",
        "colab_type": "code",
        "colab": {}
      },
      "source": [
        "def count_words(words):\n",
        "  counts = {}\n",
        "  for word in words:\n",
        "    if word in counts:\n",
        "      counts[word] = counts[word] + 1\n",
        "    else:\n",
        "      counts[word] = 1\n",
        "  return counts"
      ],
      "execution_count": 0,
      "outputs": []
    },
    {
      "cell_type": "markdown",
      "metadata": {
        "id": "cCObvcyMXgst",
        "colab_type": "text"
      },
      "source": [
        "Every string has a `.split()` method that can be used to split it into a list. By default, this method splits at white space (including spaces and line breaks). For example:"
      ]
    },
    {
      "cell_type": "code",
      "metadata": {
        "id": "7FO3ecZMYs6f",
        "colab_type": "code",
        "outputId": "201632ac-b4d3-48db-897f-402a7e4aa611",
        "colab": {
          "base_uri": "https://localhost:8080/",
          "height": 34
        }
      },
      "source": [
        "short_note = 'Patient reported a stomachache'\n",
        "short_note.split()"
      ],
      "execution_count": 5,
      "outputs": [
        {
          "output_type": "execute_result",
          "data": {
            "text/plain": [
              "['Patient', 'reported', 'a', 'stomachache']"
            ]
          },
          "metadata": {
            "tags": []
          },
          "execution_count": 5
        }
      ]
    },
    {
      "cell_type": "markdown",
      "metadata": {
        "id": "q7cx_2itZUsY",
        "colab_type": "text"
      },
      "source": [
        "Consider instead the following note:"
      ]
    },
    {
      "cell_type": "code",
      "metadata": {
        "id": "uyyCddnZvmbi",
        "colab_type": "code",
        "colab": {}
      },
      "source": [
        "note = '''\n",
        "Patient reported a stomachache\n",
        "\n",
        "When asked what they ate recently the patient reported that they ate nothing out of\n",
        "the ordinary They refused to provide any further information\n",
        "\n",
        "Tests for abdominal muscle injury negative Recommend monitoring and antacid'''\n"
      ],
      "execution_count": 0,
      "outputs": []
    },
    {
      "cell_type": "markdown",
      "metadata": {
        "id": "ZAu0jIdtZX9L",
        "colab_type": "text"
      },
      "source": [
        "Split it into its component words using the `.split()` method and use your `count_words` function to count the number of each word in the note. This can be done in one line:"
      ]
    },
    {
      "cell_type": "code",
      "metadata": {
        "id": "PHGBXG96Z--D",
        "colab_type": "code",
        "colab": {
          "base_uri": "https://localhost:8080/",
          "height": 607
        },
        "outputId": "2ea2d1ae-07b3-416d-8442-b72f1d728b40"
      },
      "source": [
        "count_words(note.split())"
      ],
      "execution_count": 7,
      "outputs": [
        {
          "output_type": "execute_result",
          "data": {
            "text/plain": [
              "{'Patient': 1,\n",
              " 'Recommend': 1,\n",
              " 'Tests': 1,\n",
              " 'They': 1,\n",
              " 'When': 1,\n",
              " 'a': 1,\n",
              " 'abdominal': 1,\n",
              " 'and': 1,\n",
              " 'antacid': 1,\n",
              " 'any': 1,\n",
              " 'asked': 1,\n",
              " 'ate': 2,\n",
              " 'for': 1,\n",
              " 'further': 1,\n",
              " 'information': 1,\n",
              " 'injury': 1,\n",
              " 'monitoring': 1,\n",
              " 'muscle': 1,\n",
              " 'negative': 1,\n",
              " 'nothing': 1,\n",
              " 'of': 1,\n",
              " 'ordinary': 1,\n",
              " 'out': 1,\n",
              " 'patient': 1,\n",
              " 'provide': 1,\n",
              " 'recently': 1,\n",
              " 'refused': 1,\n",
              " 'reported': 2,\n",
              " 'stomachache': 1,\n",
              " 'that': 1,\n",
              " 'the': 2,\n",
              " 'they': 2,\n",
              " 'to': 1,\n",
              " 'what': 1}"
            ]
          },
          "metadata": {
            "tags": []
          },
          "execution_count": 7
        }
      ]
    },
    {
      "cell_type": "markdown",
      "metadata": {
        "id": "aTzUCnDjagSK",
        "colab_type": "text"
      },
      "source": [
        "In particular, have the computer report how many times the word `\"patient\"` appears by looking up the word in the dictionary:"
      ]
    },
    {
      "cell_type": "code",
      "metadata": {
        "id": "ijk2ld9gakOF",
        "colab_type": "code",
        "colab": {
          "base_uri": "https://localhost:8080/",
          "height": 34
        },
        "outputId": "13b2d619-ffe6-4d42-8409-7cd36dd58df6"
      },
      "source": [
        "count_words(note.split())['patient']"
      ],
      "execution_count": 8,
      "outputs": [
        {
          "output_type": "execute_result",
          "data": {
            "text/plain": [
              "1"
            ]
          },
          "metadata": {
            "tags": []
          },
          "execution_count": 8
        }
      ]
    },
    {
      "cell_type": "markdown",
      "metadata": {
        "id": "eahi6E4paFiy",
        "colab_type": "text"
      },
      "source": [
        "You may have noticed that your code reports \"Patient\" appeared once and \"patient\" also appeared once. This is because they are written differently; one has a capital letter and one does not. Fortunately, Python lets us standardize words into their lowercase forms using a string's `.lower()` method; for example:"
      ]
    },
    {
      "cell_type": "code",
      "metadata": {
        "id": "CfgUexTRYl1D",
        "colab_type": "code",
        "outputId": "b75b0ce6-3eb6-4c8f-d229-4f31f9e17fab",
        "colab": {
          "base_uri": "https://localhost:8080/",
          "height": 34
        }
      },
      "source": [
        "short_note.lower()"
      ],
      "execution_count": 9,
      "outputs": [
        {
          "output_type": "execute_result",
          "data": {
            "text/plain": [
              "'patient reported a stomachache'"
            ]
          },
          "metadata": {
            "tags": []
          },
          "execution_count": 9
        }
      ]
    },
    {
      "cell_type": "markdown",
      "metadata": {
        "id": "nkqEBORfc_5G",
        "colab_type": "text"
      },
      "source": [
        "Now, recount the words in `note` by lowercasing them first. How many times does `\"patient\"` appear now? What about `\"injury\"`?"
      ]
    },
    {
      "cell_type": "code",
      "metadata": {
        "id": "3XAAvgPyYmua",
        "colab_type": "code",
        "colab": {}
      },
      "source": [
        "word_counts = count_words(note.lower().split())"
      ],
      "execution_count": 0,
      "outputs": []
    },
    {
      "cell_type": "code",
      "metadata": {
        "id": "Z7oELXcJeBJz",
        "colab_type": "code",
        "colab": {
          "base_uri": "https://localhost:8080/",
          "height": 34
        },
        "outputId": "a1b5de8b-ee55-4c04-d3da-dc8c506db98b"
      },
      "source": [
        "word_counts['patient']"
      ],
      "execution_count": 11,
      "outputs": [
        {
          "output_type": "execute_result",
          "data": {
            "text/plain": [
              "2"
            ]
          },
          "metadata": {
            "tags": []
          },
          "execution_count": 11
        }
      ]
    },
    {
      "cell_type": "code",
      "metadata": {
        "id": "FL2us-1mmJwK",
        "colab_type": "code",
        "colab": {
          "base_uri": "https://localhost:8080/",
          "height": 34
        },
        "outputId": "193bc90b-20b4-489d-eaba-cb21c1374f2e"
      },
      "source": [
        "word_counts['injury']"
      ],
      "execution_count": 12,
      "outputs": [
        {
          "output_type": "execute_result",
          "data": {
            "text/plain": [
              "1"
            ]
          },
          "metadata": {
            "tags": []
          },
          "execution_count": 12
        }
      ]
    },
    {
      "cell_type": "markdown",
      "metadata": {
        "id": "xUWCrmDReB7y",
        "colab_type": "text"
      },
      "source": [
        "Let's return to the patients dictionary from the first exercises:"
      ]
    },
    {
      "cell_type": "code",
      "metadata": {
        "id": "Chv5bHwWe8To",
        "colab_type": "code",
        "colab": {}
      },
      "source": [
        "patients = {\n",
        "    521236: {\n",
        "        'last_name': 'Dawson',\n",
        "        'first_name': 'Louise',\n",
        "        'temperatures': [37.7, 37.2, 37.5, 37.3],\n",
        "        'height': 1.49\n",
        "    },\n",
        "    627256: {\n",
        "        'last_name': 'Valencia',\n",
        "        'first_name': 'Thelma',\n",
        "        'temperatures': [36.5, 36.9],\n",
        "        'height': 1.74\n",
        "    },\n",
        "    876516: {\n",
        "        'last_name': 'Ventura',\n",
        "        'first_name': 'William',\n",
        "        'temperatures': [36.6, 36.8, 37.8, 37.2],\n",
        "        'height': 1.70\n",
        "    },\n",
        "    161451: {\n",
        "        'last_name': 'Shackelford',\n",
        "        'first_name': 'Steven',\n",
        "        'temperatures': [37.9, 38.4, 38.4],\n",
        "        'height': 1.67\n",
        "    },\n",
        "    623724: {\n",
        "        'last_name': 'Rzeczycki',\n",
        "        'first_name': 'Kristi',\n",
        "        'temperatures': [37.9, 37.8],\n",
        "        'height': 1.65\n",
        "    }\n",
        "}"
      ],
      "execution_count": 0,
      "outputs": []
    },
    {
      "cell_type": "markdown",
      "metadata": {
        "id": "D73-BF02iOdj",
        "colab_type": "text"
      },
      "source": [
        "Loop over all the patients (you will want to use `.items()`), and print out the names and heights of all the patients with *more* than three temperature readings; for example, you'll have a line that reads:\n",
        "\n",
        "    William Ventura: 1.7m\n",
        "\n",
        "*Hint: remember that you can use an f-string to print out more than one piece of data on a line*"
      ]
    },
    {
      "cell_type": "code",
      "metadata": {
        "id": "X2KC9GuQiKrZ",
        "colab_type": "code",
        "colab": {
          "base_uri": "https://localhost:8080/",
          "height": 52
        },
        "outputId": "381ffa85-cdec-49de-85ef-566c1f7ec645"
      },
      "source": [
        "for patient_id, patient_data in patients.items():\n",
        "  if len(patient_data['temperatures']) > 3:\n",
        "    print(f'{patient_data[\"first_name\"]} {patient_data[\"last_name\"]}: {patient_data[\"height\"]}m')"
      ],
      "execution_count": 14,
      "outputs": [
        {
          "output_type": "stream",
          "text": [
            "Louise Dawson: 1.49m\n",
            "William Ventura: 1.7m\n"
          ],
          "name": "stdout"
        }
      ]
    }
  ]
}